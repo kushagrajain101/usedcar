{
 "cells": [
  {
   "cell_type": "markdown",
   "id": "ec700587",
   "metadata": {},
   "source": [
    "# DATA ANALYSIS"
   ]
  },
  {
   "cell_type": "code",
   "execution_count": 52,
   "id": "b42151a5",
   "metadata": {},
   "outputs": [
    {
     "data": {
      "text/html": [
       "<div>\n",
       "<style scoped>\n",
       "    .dataframe tbody tr th:only-of-type {\n",
       "        vertical-align: middle;\n",
       "    }\n",
       "\n",
       "    .dataframe tbody tr th {\n",
       "        vertical-align: top;\n",
       "    }\n",
       "\n",
       "    .dataframe thead th {\n",
       "        text-align: right;\n",
       "    }\n",
       "</style>\n",
       "<table border=\"1\" class=\"dataframe\">\n",
       "  <thead>\n",
       "    <tr style=\"text-align: right;\">\n",
       "      <th></th>\n",
       "      <th>name</th>\n",
       "      <th>year</th>\n",
       "      <th>km_driven</th>\n",
       "      <th>fuel</th>\n",
       "      <th>seller_type</th>\n",
       "      <th>transmission</th>\n",
       "      <th>owner</th>\n",
       "      <th>selling_price</th>\n",
       "    </tr>\n",
       "  </thead>\n",
       "  <tbody>\n",
       "    <tr>\n",
       "      <th>0</th>\n",
       "      <td>Maruti 800 AC</td>\n",
       "      <td>2007</td>\n",
       "      <td>70000</td>\n",
       "      <td>Petrol</td>\n",
       "      <td>Individual</td>\n",
       "      <td>Manual</td>\n",
       "      <td>First Owner</td>\n",
       "      <td>60000</td>\n",
       "    </tr>\n",
       "    <tr>\n",
       "      <th>1</th>\n",
       "      <td>Maruti Wagon R LXI Minor</td>\n",
       "      <td>2007</td>\n",
       "      <td>50000</td>\n",
       "      <td>Petrol</td>\n",
       "      <td>Individual</td>\n",
       "      <td>Manual</td>\n",
       "      <td>First Owner</td>\n",
       "      <td>135000</td>\n",
       "    </tr>\n",
       "    <tr>\n",
       "      <th>2</th>\n",
       "      <td>Hyundai Verna 1.6 SX</td>\n",
       "      <td>2012</td>\n",
       "      <td>100000</td>\n",
       "      <td>Diesel</td>\n",
       "      <td>Individual</td>\n",
       "      <td>Manual</td>\n",
       "      <td>First Owner</td>\n",
       "      <td>600000</td>\n",
       "    </tr>\n",
       "    <tr>\n",
       "      <th>3</th>\n",
       "      <td>Datsun RediGO T Option</td>\n",
       "      <td>2017</td>\n",
       "      <td>46000</td>\n",
       "      <td>Petrol</td>\n",
       "      <td>Individual</td>\n",
       "      <td>Manual</td>\n",
       "      <td>First Owner</td>\n",
       "      <td>250000</td>\n",
       "    </tr>\n",
       "    <tr>\n",
       "      <th>4</th>\n",
       "      <td>Honda Amaze VX i-DTEC</td>\n",
       "      <td>2014</td>\n",
       "      <td>141000</td>\n",
       "      <td>Diesel</td>\n",
       "      <td>Individual</td>\n",
       "      <td>Manual</td>\n",
       "      <td>Second Owner</td>\n",
       "      <td>450000</td>\n",
       "    </tr>\n",
       "    <tr>\n",
       "      <th>...</th>\n",
       "      <td>...</td>\n",
       "      <td>...</td>\n",
       "      <td>...</td>\n",
       "      <td>...</td>\n",
       "      <td>...</td>\n",
       "      <td>...</td>\n",
       "      <td>...</td>\n",
       "      <td>...</td>\n",
       "    </tr>\n",
       "    <tr>\n",
       "      <th>4335</th>\n",
       "      <td>Hyundai i20 Magna 1.4 CRDi (Diesel)</td>\n",
       "      <td>2014</td>\n",
       "      <td>80000</td>\n",
       "      <td>Diesel</td>\n",
       "      <td>Individual</td>\n",
       "      <td>Manual</td>\n",
       "      <td>Second Owner</td>\n",
       "      <td>409999</td>\n",
       "    </tr>\n",
       "    <tr>\n",
       "      <th>4336</th>\n",
       "      <td>Hyundai i20 Magna 1.4 CRDi</td>\n",
       "      <td>2014</td>\n",
       "      <td>80000</td>\n",
       "      <td>Diesel</td>\n",
       "      <td>Individual</td>\n",
       "      <td>Manual</td>\n",
       "      <td>Second Owner</td>\n",
       "      <td>409999</td>\n",
       "    </tr>\n",
       "    <tr>\n",
       "      <th>4337</th>\n",
       "      <td>Maruti 800 AC BSIII</td>\n",
       "      <td>2009</td>\n",
       "      <td>83000</td>\n",
       "      <td>Petrol</td>\n",
       "      <td>Individual</td>\n",
       "      <td>Manual</td>\n",
       "      <td>Second Owner</td>\n",
       "      <td>110000</td>\n",
       "    </tr>\n",
       "    <tr>\n",
       "      <th>4338</th>\n",
       "      <td>Hyundai Creta 1.6 CRDi SX Option</td>\n",
       "      <td>2016</td>\n",
       "      <td>90000</td>\n",
       "      <td>Diesel</td>\n",
       "      <td>Individual</td>\n",
       "      <td>Manual</td>\n",
       "      <td>First Owner</td>\n",
       "      <td>865000</td>\n",
       "    </tr>\n",
       "    <tr>\n",
       "      <th>4339</th>\n",
       "      <td>Renault KWID RXT</td>\n",
       "      <td>2016</td>\n",
       "      <td>40000</td>\n",
       "      <td>Petrol</td>\n",
       "      <td>Individual</td>\n",
       "      <td>Manual</td>\n",
       "      <td>First Owner</td>\n",
       "      <td>225000</td>\n",
       "    </tr>\n",
       "  </tbody>\n",
       "</table>\n",
       "<p>4340 rows × 8 columns</p>\n",
       "</div>"
      ],
      "text/plain": [
       "                                     name  year  km_driven    fuel  \\\n",
       "0                           Maruti 800 AC  2007      70000  Petrol   \n",
       "1                Maruti Wagon R LXI Minor  2007      50000  Petrol   \n",
       "2                    Hyundai Verna 1.6 SX  2012     100000  Diesel   \n",
       "3                  Datsun RediGO T Option  2017      46000  Petrol   \n",
       "4                   Honda Amaze VX i-DTEC  2014     141000  Diesel   \n",
       "...                                   ...   ...        ...     ...   \n",
       "4335  Hyundai i20 Magna 1.4 CRDi (Diesel)  2014      80000  Diesel   \n",
       "4336           Hyundai i20 Magna 1.4 CRDi  2014      80000  Diesel   \n",
       "4337                  Maruti 800 AC BSIII  2009      83000  Petrol   \n",
       "4338     Hyundai Creta 1.6 CRDi SX Option  2016      90000  Diesel   \n",
       "4339                     Renault KWID RXT  2016      40000  Petrol   \n",
       "\n",
       "     seller_type transmission         owner  selling_price  \n",
       "0     Individual       Manual   First Owner          60000  \n",
       "1     Individual       Manual   First Owner         135000  \n",
       "2     Individual       Manual   First Owner         600000  \n",
       "3     Individual       Manual   First Owner         250000  \n",
       "4     Individual       Manual  Second Owner         450000  \n",
       "...          ...          ...           ...            ...  \n",
       "4335  Individual       Manual  Second Owner         409999  \n",
       "4336  Individual       Manual  Second Owner         409999  \n",
       "4337  Individual       Manual  Second Owner         110000  \n",
       "4338  Individual       Manual   First Owner         865000  \n",
       "4339  Individual       Manual   First Owner         225000  \n",
       "\n",
       "[4340 rows x 8 columns]"
      ]
     },
     "execution_count": 52,
     "metadata": {},
     "output_type": "execute_result"
    }
   ],
   "source": [
    "# importing pandas module to interact and deal with datasets in python \n",
    "# importing the dataset named \"car_price.csv\"\n",
    "import pandas as pd\n",
    "\n",
    "a=pd.read_csv('car_price2.csv')\n",
    "df=pd.DataFrame(a)\n",
    "\n",
    "df"
   ]
  },
  {
   "cell_type": "code",
   "execution_count": 53,
   "id": "b4be7b33",
   "metadata": {},
   "outputs": [
    {
     "name": "stdout",
     "output_type": "stream",
     "text": [
      "<class 'pandas.core.frame.DataFrame'>\n",
      "RangeIndex: 4340 entries, 0 to 4339\n",
      "Data columns (total 8 columns):\n",
      " #   Column         Non-Null Count  Dtype \n",
      "---  ------         --------------  ----- \n",
      " 0   name           4340 non-null   object\n",
      " 1   year           4340 non-null   int64 \n",
      " 2   km_driven      4340 non-null   int64 \n",
      " 3   fuel           4340 non-null   object\n",
      " 4   seller_type    4340 non-null   object\n",
      " 5   transmission   4340 non-null   object\n",
      " 6   owner          4340 non-null   object\n",
      " 7   selling_price  4340 non-null   int64 \n",
      "dtypes: int64(3), object(5)\n",
      "memory usage: 271.4+ KB\n"
     ]
    }
   ],
   "source": [
    "df.info()"
   ]
  },
  {
   "cell_type": "code",
   "execution_count": 54,
   "id": "c9836d53",
   "metadata": {},
   "outputs": [
    {
     "data": {
      "text/html": [
       "<div>\n",
       "<style scoped>\n",
       "    .dataframe tbody tr th:only-of-type {\n",
       "        vertical-align: middle;\n",
       "    }\n",
       "\n",
       "    .dataframe tbody tr th {\n",
       "        vertical-align: top;\n",
       "    }\n",
       "\n",
       "    .dataframe thead th {\n",
       "        text-align: right;\n",
       "    }\n",
       "</style>\n",
       "<table border=\"1\" class=\"dataframe\">\n",
       "  <thead>\n",
       "    <tr style=\"text-align: right;\">\n",
       "      <th></th>\n",
       "      <th>year</th>\n",
       "      <th>km_driven</th>\n",
       "      <th>selling_price</th>\n",
       "    </tr>\n",
       "  </thead>\n",
       "  <tbody>\n",
       "    <tr>\n",
       "      <th>count</th>\n",
       "      <td>4340.000000</td>\n",
       "      <td>4340.000000</td>\n",
       "      <td>4.340000e+03</td>\n",
       "    </tr>\n",
       "    <tr>\n",
       "      <th>mean</th>\n",
       "      <td>2013.090783</td>\n",
       "      <td>66215.777419</td>\n",
       "      <td>5.041273e+05</td>\n",
       "    </tr>\n",
       "    <tr>\n",
       "      <th>std</th>\n",
       "      <td>4.215344</td>\n",
       "      <td>46644.102194</td>\n",
       "      <td>5.785487e+05</td>\n",
       "    </tr>\n",
       "    <tr>\n",
       "      <th>min</th>\n",
       "      <td>1992.000000</td>\n",
       "      <td>1.000000</td>\n",
       "      <td>2.000000e+04</td>\n",
       "    </tr>\n",
       "    <tr>\n",
       "      <th>25%</th>\n",
       "      <td>2011.000000</td>\n",
       "      <td>35000.000000</td>\n",
       "      <td>2.087498e+05</td>\n",
       "    </tr>\n",
       "    <tr>\n",
       "      <th>50%</th>\n",
       "      <td>2014.000000</td>\n",
       "      <td>60000.000000</td>\n",
       "      <td>3.500000e+05</td>\n",
       "    </tr>\n",
       "    <tr>\n",
       "      <th>75%</th>\n",
       "      <td>2016.000000</td>\n",
       "      <td>90000.000000</td>\n",
       "      <td>6.000000e+05</td>\n",
       "    </tr>\n",
       "    <tr>\n",
       "      <th>max</th>\n",
       "      <td>2020.000000</td>\n",
       "      <td>806599.000000</td>\n",
       "      <td>8.900000e+06</td>\n",
       "    </tr>\n",
       "  </tbody>\n",
       "</table>\n",
       "</div>"
      ],
      "text/plain": [
       "              year      km_driven  selling_price\n",
       "count  4340.000000    4340.000000   4.340000e+03\n",
       "mean   2013.090783   66215.777419   5.041273e+05\n",
       "std       4.215344   46644.102194   5.785487e+05\n",
       "min    1992.000000       1.000000   2.000000e+04\n",
       "25%    2011.000000   35000.000000   2.087498e+05\n",
       "50%    2014.000000   60000.000000   3.500000e+05\n",
       "75%    2016.000000   90000.000000   6.000000e+05\n",
       "max    2020.000000  806599.000000   8.900000e+06"
      ]
     },
     "execution_count": 54,
     "metadata": {},
     "output_type": "execute_result"
    }
   ],
   "source": [
    "df.describe()"
   ]
  },
  {
   "cell_type": "code",
   "execution_count": 55,
   "id": "7bf4479b",
   "metadata": {},
   "outputs": [
    {
     "data": {
      "text/html": [
       "<div>\n",
       "<style scoped>\n",
       "    .dataframe tbody tr th:only-of-type {\n",
       "        vertical-align: middle;\n",
       "    }\n",
       "\n",
       "    .dataframe tbody tr th {\n",
       "        vertical-align: top;\n",
       "    }\n",
       "\n",
       "    .dataframe thead th {\n",
       "        text-align: right;\n",
       "    }\n",
       "</style>\n",
       "<table border=\"1\" class=\"dataframe\">\n",
       "  <thead>\n",
       "    <tr style=\"text-align: right;\">\n",
       "      <th></th>\n",
       "      <th>name</th>\n",
       "      <th>year</th>\n",
       "      <th>km_driven</th>\n",
       "      <th>fuel</th>\n",
       "      <th>seller_type</th>\n",
       "      <th>transmission</th>\n",
       "      <th>owner</th>\n",
       "      <th>selling_price</th>\n",
       "    </tr>\n",
       "  </thead>\n",
       "  <tbody>\n",
       "    <tr>\n",
       "      <th>0</th>\n",
       "      <td>Maruti 800 AC</td>\n",
       "      <td>2007</td>\n",
       "      <td>70000</td>\n",
       "      <td>Petrol</td>\n",
       "      <td>Individual</td>\n",
       "      <td>Manual</td>\n",
       "      <td>First Owner</td>\n",
       "      <td>60000</td>\n",
       "    </tr>\n",
       "    <tr>\n",
       "      <th>1</th>\n",
       "      <td>Maruti Wagon R LXI Minor</td>\n",
       "      <td>2007</td>\n",
       "      <td>50000</td>\n",
       "      <td>Petrol</td>\n",
       "      <td>Individual</td>\n",
       "      <td>Manual</td>\n",
       "      <td>First Owner</td>\n",
       "      <td>135000</td>\n",
       "    </tr>\n",
       "    <tr>\n",
       "      <th>2</th>\n",
       "      <td>Hyundai Verna 1.6 SX</td>\n",
       "      <td>2012</td>\n",
       "      <td>100000</td>\n",
       "      <td>Diesel</td>\n",
       "      <td>Individual</td>\n",
       "      <td>Manual</td>\n",
       "      <td>First Owner</td>\n",
       "      <td>600000</td>\n",
       "    </tr>\n",
       "    <tr>\n",
       "      <th>3</th>\n",
       "      <td>Datsun RediGO T Option</td>\n",
       "      <td>2017</td>\n",
       "      <td>46000</td>\n",
       "      <td>Petrol</td>\n",
       "      <td>Individual</td>\n",
       "      <td>Manual</td>\n",
       "      <td>First Owner</td>\n",
       "      <td>250000</td>\n",
       "    </tr>\n",
       "    <tr>\n",
       "      <th>4</th>\n",
       "      <td>Honda Amaze VX i-DTEC</td>\n",
       "      <td>2014</td>\n",
       "      <td>141000</td>\n",
       "      <td>Diesel</td>\n",
       "      <td>Individual</td>\n",
       "      <td>Manual</td>\n",
       "      <td>Second Owner</td>\n",
       "      <td>450000</td>\n",
       "    </tr>\n",
       "  </tbody>\n",
       "</table>\n",
       "</div>"
      ],
      "text/plain": [
       "                       name  year  km_driven    fuel seller_type transmission  \\\n",
       "0             Maruti 800 AC  2007      70000  Petrol  Individual       Manual   \n",
       "1  Maruti Wagon R LXI Minor  2007      50000  Petrol  Individual       Manual   \n",
       "2      Hyundai Verna 1.6 SX  2012     100000  Diesel  Individual       Manual   \n",
       "3    Datsun RediGO T Option  2017      46000  Petrol  Individual       Manual   \n",
       "4     Honda Amaze VX i-DTEC  2014     141000  Diesel  Individual       Manual   \n",
       "\n",
       "          owner  selling_price  \n",
       "0   First Owner          60000  \n",
       "1   First Owner         135000  \n",
       "2   First Owner         600000  \n",
       "3   First Owner         250000  \n",
       "4  Second Owner         450000  "
      ]
     },
     "execution_count": 55,
     "metadata": {},
     "output_type": "execute_result"
    }
   ],
   "source": [
    "df.head()"
   ]
  },
  {
   "cell_type": "code",
   "execution_count": 56,
   "id": "650ef3ed",
   "metadata": {},
   "outputs": [
    {
     "data": {
      "text/html": [
       "<div>\n",
       "<style scoped>\n",
       "    .dataframe tbody tr th:only-of-type {\n",
       "        vertical-align: middle;\n",
       "    }\n",
       "\n",
       "    .dataframe tbody tr th {\n",
       "        vertical-align: top;\n",
       "    }\n",
       "\n",
       "    .dataframe thead th {\n",
       "        text-align: right;\n",
       "    }\n",
       "</style>\n",
       "<table border=\"1\" class=\"dataframe\">\n",
       "  <thead>\n",
       "    <tr style=\"text-align: right;\">\n",
       "      <th></th>\n",
       "      <th>name</th>\n",
       "      <th>year</th>\n",
       "      <th>km_driven</th>\n",
       "      <th>fuel</th>\n",
       "      <th>seller_type</th>\n",
       "      <th>transmission</th>\n",
       "      <th>owner</th>\n",
       "      <th>selling_price</th>\n",
       "    </tr>\n",
       "  </thead>\n",
       "  <tbody>\n",
       "    <tr>\n",
       "      <th>4335</th>\n",
       "      <td>Hyundai i20 Magna 1.4 CRDi (Diesel)</td>\n",
       "      <td>2014</td>\n",
       "      <td>80000</td>\n",
       "      <td>Diesel</td>\n",
       "      <td>Individual</td>\n",
       "      <td>Manual</td>\n",
       "      <td>Second Owner</td>\n",
       "      <td>409999</td>\n",
       "    </tr>\n",
       "    <tr>\n",
       "      <th>4336</th>\n",
       "      <td>Hyundai i20 Magna 1.4 CRDi</td>\n",
       "      <td>2014</td>\n",
       "      <td>80000</td>\n",
       "      <td>Diesel</td>\n",
       "      <td>Individual</td>\n",
       "      <td>Manual</td>\n",
       "      <td>Second Owner</td>\n",
       "      <td>409999</td>\n",
       "    </tr>\n",
       "    <tr>\n",
       "      <th>4337</th>\n",
       "      <td>Maruti 800 AC BSIII</td>\n",
       "      <td>2009</td>\n",
       "      <td>83000</td>\n",
       "      <td>Petrol</td>\n",
       "      <td>Individual</td>\n",
       "      <td>Manual</td>\n",
       "      <td>Second Owner</td>\n",
       "      <td>110000</td>\n",
       "    </tr>\n",
       "    <tr>\n",
       "      <th>4338</th>\n",
       "      <td>Hyundai Creta 1.6 CRDi SX Option</td>\n",
       "      <td>2016</td>\n",
       "      <td>90000</td>\n",
       "      <td>Diesel</td>\n",
       "      <td>Individual</td>\n",
       "      <td>Manual</td>\n",
       "      <td>First Owner</td>\n",
       "      <td>865000</td>\n",
       "    </tr>\n",
       "    <tr>\n",
       "      <th>4339</th>\n",
       "      <td>Renault KWID RXT</td>\n",
       "      <td>2016</td>\n",
       "      <td>40000</td>\n",
       "      <td>Petrol</td>\n",
       "      <td>Individual</td>\n",
       "      <td>Manual</td>\n",
       "      <td>First Owner</td>\n",
       "      <td>225000</td>\n",
       "    </tr>\n",
       "  </tbody>\n",
       "</table>\n",
       "</div>"
      ],
      "text/plain": [
       "                                     name  year  km_driven    fuel  \\\n",
       "4335  Hyundai i20 Magna 1.4 CRDi (Diesel)  2014      80000  Diesel   \n",
       "4336           Hyundai i20 Magna 1.4 CRDi  2014      80000  Diesel   \n",
       "4337                  Maruti 800 AC BSIII  2009      83000  Petrol   \n",
       "4338     Hyundai Creta 1.6 CRDi SX Option  2016      90000  Diesel   \n",
       "4339                     Renault KWID RXT  2016      40000  Petrol   \n",
       "\n",
       "     seller_type transmission         owner  selling_price  \n",
       "4335  Individual       Manual  Second Owner         409999  \n",
       "4336  Individual       Manual  Second Owner         409999  \n",
       "4337  Individual       Manual  Second Owner         110000  \n",
       "4338  Individual       Manual   First Owner         865000  \n",
       "4339  Individual       Manual   First Owner         225000  "
      ]
     },
     "execution_count": 56,
     "metadata": {},
     "output_type": "execute_result"
    }
   ],
   "source": [
    "df.tail()"
   ]
  },
  {
   "cell_type": "code",
   "execution_count": 57,
   "id": "cdb9abfc",
   "metadata": {},
   "outputs": [
    {
     "data": {
      "text/plain": [
       "name             False\n",
       "year             False\n",
       "km_driven        False\n",
       "fuel             False\n",
       "seller_type      False\n",
       "transmission     False\n",
       "owner            False\n",
       "selling_price    False\n",
       "dtype: bool"
      ]
     },
     "execution_count": 57,
     "metadata": {},
     "output_type": "execute_result"
    }
   ],
   "source": [
    "df.isnull().any()"
   ]
  },
  {
   "cell_type": "code",
   "execution_count": 58,
   "id": "12a92161",
   "metadata": {},
   "outputs": [],
   "source": [
    "x=df.query('selling_price<2000000 and selling_price>1500000 and km_driven<100000')"
   ]
  },
  {
   "cell_type": "code",
   "execution_count": 59,
   "id": "f021322b",
   "metadata": {},
   "outputs": [
    {
     "data": {
      "text/plain": [
       "name             48\n",
       "year             48\n",
       "km_driven        48\n",
       "fuel             48\n",
       "seller_type      48\n",
       "transmission     48\n",
       "owner            48\n",
       "selling_price    48\n",
       "dtype: int64"
      ]
     },
     "execution_count": 59,
     "metadata": {},
     "output_type": "execute_result"
    }
   ],
   "source": [
    "x.count()"
   ]
  },
  {
   "cell_type": "markdown",
   "id": "a013d074",
   "metadata": {},
   "source": [
    "# DATA PREPROCESSING"
   ]
  },
  {
   "cell_type": "code",
   "execution_count": 60,
   "id": "07d42661",
   "metadata": {},
   "outputs": [
    {
     "data": {
      "text/plain": [
       "True"
      ]
     },
     "execution_count": 60,
     "metadata": {},
     "output_type": "execute_result"
    }
   ],
   "source": [
    "df.duplicated().any()"
   ]
  },
  {
   "cell_type": "code",
   "execution_count": 61,
   "id": "c55a0bb7",
   "metadata": {},
   "outputs": [
    {
     "data": {
      "text/html": [
       "<div>\n",
       "<style scoped>\n",
       "    .dataframe tbody tr th:only-of-type {\n",
       "        vertical-align: middle;\n",
       "    }\n",
       "\n",
       "    .dataframe tbody tr th {\n",
       "        vertical-align: top;\n",
       "    }\n",
       "\n",
       "    .dataframe thead th {\n",
       "        text-align: right;\n",
       "    }\n",
       "</style>\n",
       "<table border=\"1\" class=\"dataframe\">\n",
       "  <thead>\n",
       "    <tr style=\"text-align: right;\">\n",
       "      <th></th>\n",
       "      <th>name</th>\n",
       "      <th>year</th>\n",
       "      <th>km_driven</th>\n",
       "      <th>fuel</th>\n",
       "      <th>seller_type</th>\n",
       "      <th>transmission</th>\n",
       "      <th>owner</th>\n",
       "      <th>selling_price</th>\n",
       "    </tr>\n",
       "  </thead>\n",
       "  <tbody>\n",
       "    <tr>\n",
       "      <th>0</th>\n",
       "      <td>Maruti 800 AC</td>\n",
       "      <td>2007</td>\n",
       "      <td>70000</td>\n",
       "      <td>Petrol</td>\n",
       "      <td>Individual</td>\n",
       "      <td>Manual</td>\n",
       "      <td>First Owner</td>\n",
       "      <td>60000</td>\n",
       "    </tr>\n",
       "    <tr>\n",
       "      <th>1</th>\n",
       "      <td>Maruti Wagon R LXI Minor</td>\n",
       "      <td>2007</td>\n",
       "      <td>50000</td>\n",
       "      <td>Petrol</td>\n",
       "      <td>Individual</td>\n",
       "      <td>Manual</td>\n",
       "      <td>First Owner</td>\n",
       "      <td>135000</td>\n",
       "    </tr>\n",
       "    <tr>\n",
       "      <th>2</th>\n",
       "      <td>Hyundai Verna 1.6 SX</td>\n",
       "      <td>2012</td>\n",
       "      <td>100000</td>\n",
       "      <td>Diesel</td>\n",
       "      <td>Individual</td>\n",
       "      <td>Manual</td>\n",
       "      <td>First Owner</td>\n",
       "      <td>600000</td>\n",
       "    </tr>\n",
       "    <tr>\n",
       "      <th>3</th>\n",
       "      <td>Datsun RediGO T Option</td>\n",
       "      <td>2017</td>\n",
       "      <td>46000</td>\n",
       "      <td>Petrol</td>\n",
       "      <td>Individual</td>\n",
       "      <td>Manual</td>\n",
       "      <td>First Owner</td>\n",
       "      <td>250000</td>\n",
       "    </tr>\n",
       "    <tr>\n",
       "      <th>4</th>\n",
       "      <td>Honda Amaze VX i-DTEC</td>\n",
       "      <td>2014</td>\n",
       "      <td>141000</td>\n",
       "      <td>Diesel</td>\n",
       "      <td>Individual</td>\n",
       "      <td>Manual</td>\n",
       "      <td>Second Owner</td>\n",
       "      <td>450000</td>\n",
       "    </tr>\n",
       "    <tr>\n",
       "      <th>...</th>\n",
       "      <td>...</td>\n",
       "      <td>...</td>\n",
       "      <td>...</td>\n",
       "      <td>...</td>\n",
       "      <td>...</td>\n",
       "      <td>...</td>\n",
       "      <td>...</td>\n",
       "      <td>...</td>\n",
       "    </tr>\n",
       "    <tr>\n",
       "      <th>4335</th>\n",
       "      <td>Hyundai i20 Magna 1.4 CRDi (Diesel)</td>\n",
       "      <td>2014</td>\n",
       "      <td>80000</td>\n",
       "      <td>Diesel</td>\n",
       "      <td>Individual</td>\n",
       "      <td>Manual</td>\n",
       "      <td>Second Owner</td>\n",
       "      <td>409999</td>\n",
       "    </tr>\n",
       "    <tr>\n",
       "      <th>4336</th>\n",
       "      <td>Hyundai i20 Magna 1.4 CRDi</td>\n",
       "      <td>2014</td>\n",
       "      <td>80000</td>\n",
       "      <td>Diesel</td>\n",
       "      <td>Individual</td>\n",
       "      <td>Manual</td>\n",
       "      <td>Second Owner</td>\n",
       "      <td>409999</td>\n",
       "    </tr>\n",
       "    <tr>\n",
       "      <th>4337</th>\n",
       "      <td>Maruti 800 AC BSIII</td>\n",
       "      <td>2009</td>\n",
       "      <td>83000</td>\n",
       "      <td>Petrol</td>\n",
       "      <td>Individual</td>\n",
       "      <td>Manual</td>\n",
       "      <td>Second Owner</td>\n",
       "      <td>110000</td>\n",
       "    </tr>\n",
       "    <tr>\n",
       "      <th>4338</th>\n",
       "      <td>Hyundai Creta 1.6 CRDi SX Option</td>\n",
       "      <td>2016</td>\n",
       "      <td>90000</td>\n",
       "      <td>Diesel</td>\n",
       "      <td>Individual</td>\n",
       "      <td>Manual</td>\n",
       "      <td>First Owner</td>\n",
       "      <td>865000</td>\n",
       "    </tr>\n",
       "    <tr>\n",
       "      <th>4339</th>\n",
       "      <td>Renault KWID RXT</td>\n",
       "      <td>2016</td>\n",
       "      <td>40000</td>\n",
       "      <td>Petrol</td>\n",
       "      <td>Individual</td>\n",
       "      <td>Manual</td>\n",
       "      <td>First Owner</td>\n",
       "      <td>225000</td>\n",
       "    </tr>\n",
       "  </tbody>\n",
       "</table>\n",
       "<p>3577 rows × 8 columns</p>\n",
       "</div>"
      ],
      "text/plain": [
       "                                     name  year  km_driven    fuel  \\\n",
       "0                           Maruti 800 AC  2007      70000  Petrol   \n",
       "1                Maruti Wagon R LXI Minor  2007      50000  Petrol   \n",
       "2                    Hyundai Verna 1.6 SX  2012     100000  Diesel   \n",
       "3                  Datsun RediGO T Option  2017      46000  Petrol   \n",
       "4                   Honda Amaze VX i-DTEC  2014     141000  Diesel   \n",
       "...                                   ...   ...        ...     ...   \n",
       "4335  Hyundai i20 Magna 1.4 CRDi (Diesel)  2014      80000  Diesel   \n",
       "4336           Hyundai i20 Magna 1.4 CRDi  2014      80000  Diesel   \n",
       "4337                  Maruti 800 AC BSIII  2009      83000  Petrol   \n",
       "4338     Hyundai Creta 1.6 CRDi SX Option  2016      90000  Diesel   \n",
       "4339                     Renault KWID RXT  2016      40000  Petrol   \n",
       "\n",
       "     seller_type transmission         owner  selling_price  \n",
       "0     Individual       Manual   First Owner          60000  \n",
       "1     Individual       Manual   First Owner         135000  \n",
       "2     Individual       Manual   First Owner         600000  \n",
       "3     Individual       Manual   First Owner         250000  \n",
       "4     Individual       Manual  Second Owner         450000  \n",
       "...          ...          ...           ...            ...  \n",
       "4335  Individual       Manual  Second Owner         409999  \n",
       "4336  Individual       Manual  Second Owner         409999  \n",
       "4337  Individual       Manual  Second Owner         110000  \n",
       "4338  Individual       Manual   First Owner         865000  \n",
       "4339  Individual       Manual   First Owner         225000  \n",
       "\n",
       "[3577 rows x 8 columns]"
      ]
     },
     "execution_count": 61,
     "metadata": {},
     "output_type": "execute_result"
    }
   ],
   "source": [
    "df.drop_duplicates(inplace=True)\n",
    "df"
   ]
  },
  {
   "cell_type": "code",
   "execution_count": 103,
   "id": "8b859db3",
   "metadata": {
    "scrolled": true
   },
   "outputs": [
    {
     "data": {
      "text/plain": [
       "name             False\n",
       "year             False\n",
       "km_driven        False\n",
       "fuel             False\n",
       "seller_type      False\n",
       "transmission     False\n",
       "owner            False\n",
       "selling_price    False\n",
       "dtype: bool"
      ]
     },
     "execution_count": 103,
     "metadata": {},
     "output_type": "execute_result"
    }
   ],
   "source": [
    "df.isnull().any()"
   ]
  },
  {
   "cell_type": "code",
   "execution_count": 62,
   "id": "b9090fe1",
   "metadata": {},
   "outputs": [
    {
     "data": {
      "image/png": "[encoded data removed]",
      "text/plain": [
       "<Figure size 640x480 with 1 Axes>"
      ]
     },
     "metadata": {},
     "output_type": "display_data"
    },
    {
     "data": {
      "image/png": "[encoded data removed]",
      "text/plain": [
       "<Figure size 640x480 with 1 Axes>"
      ]
     },
     "metadata": {},
     "output_type": "display_data"
    },
    {
     "data": {
      "image/png": "[encoded data removed]",
      "text/plain": [
       "<Figure size 640x480 with 1 Axes>"
      ]
     },
     "metadata": {},
     "output_type": "display_data"
    },
    {
     "data": {
      "text/plain": [
       "<Figure size 640x480 with 0 Axes>"
      ]
     },
     "metadata": {},
     "output_type": "display_data"
    }
   ],
   "source": [
    "import matplotlib.pyplot as plt\n",
    "import seaborn as sns\n",
    "cols=['year','selling_price','km_driven']\n",
    "for i in cols:\n",
    "    sns.boxplot(y=df[i])\n",
    "    plt.figure()\n"
   ]
  },
  {
   "cell_type": "code",
   "execution_count": 101,
   "id": "06fafee8",
   "metadata": {},
   "outputs": [],
   "source": [
    "col=['year','selling_price','km_driven']\n",
    "for i in col:\n",
    "    q1=df[i].quantile(.25)\n",
    "    q3=df[i].quantile(.75)\n",
    "    iqr=q3-q1\n",
    "    upper=q3+(1.5*iqr)\n",
    "    lower=q1-(1.5*iqr)\n",
    "    df=df[df[i]>lower]\n",
    "    df=df[df[i]<upper]"
   ]
  },
  {
   "cell_type": "code",
   "execution_count": 102,
   "id": "bd46c995",
   "metadata": {},
   "outputs": [
    {
     "data": {
      "image/png": "[encoded data removed]",
      "text/plain": [
       "<Figure size 640x480 with 1 Axes>"
      ]
     },
     "metadata": {},
     "output_type": "display_data"
    },
    {
     "data": {
      "image/png": "[encoded data removed]",
      "text/plain": [
       "<Figure size 640x480 with 1 Axes>"
      ]
     },
     "metadata": {},
     "output_type": "display_data"
    },
    {
     "data": {
      "image/png": "[encoded data removed]",
      "text/plain": [
       "<Figure size 640x480 with 1 Axes>"
      ]
     },
     "metadata": {},
     "output_type": "display_data"
    },
    {
     "data": {
      "text/plain": [
       "<Figure size 640x480 with 0 Axes>"
      ]
     },
     "metadata": {},
     "output_type": "display_data"
    }
   ],
   "source": [
    "cols=['year','selling_price','km_driven']\n",
    "for i in cols:\n",
    "    sns.boxplot(y=df[i])\n",
    "    plt.figure()\n"
   ]
  },
  {
   "cell_type": "code",
   "execution_count": 65,
   "id": "1dfe8e1a",
   "metadata": {},
   "outputs": [
    {
     "name": "stderr",
     "output_type": "stream",
     "text": [
      "C:\\Users\\Asus\\AppData\\Local\\Temp\\ipykernel_35696\\3608236885.py:2: FutureWarning: The default value of numeric_only in DataFrame.corr is deprecated. In a future version, it will default to False. Select only valid columns or specify the value of numeric_only to silence this warning.\n",
      "  df.corr()\n"
     ]
    },
    {
     "data": {
      "text/plain": [
       "array([2007, 2007, 2012, ..., 2009, 2016, 2016], dtype=int64)"
      ]
     },
     "execution_count": 65,
     "metadata": {},
     "output_type": "execute_result"
    }
   ],
   "source": [
    "df.fuel\n",
    "df.corr()\n",
    "df.year.values"
   ]
  },
  {
   "cell_type": "code",
   "execution_count": 66,
   "id": "67162c03",
   "metadata": {},
   "outputs": [
    {
     "data": {
      "text/html": [
       "<div>\n",
       "<style scoped>\n",
       "    .dataframe tbody tr th:only-of-type {\n",
       "        vertical-align: middle;\n",
       "    }\n",
       "\n",
       "    .dataframe tbody tr th {\n",
       "        vertical-align: top;\n",
       "    }\n",
       "\n",
       "    .dataframe thead th {\n",
       "        text-align: right;\n",
       "    }\n",
       "</style>\n",
       "<table border=\"1\" class=\"dataframe\">\n",
       "  <thead>\n",
       "    <tr style=\"text-align: right;\">\n",
       "      <th></th>\n",
       "      <th>year</th>\n",
       "      <th>km_driven</th>\n",
       "      <th>selling_price</th>\n",
       "    </tr>\n",
       "  </thead>\n",
       "  <tbody>\n",
       "    <tr>\n",
       "      <th>count</th>\n",
       "      <td>3218.000000</td>\n",
       "      <td>3218.000000</td>\n",
       "      <td>3.218000e+03</td>\n",
       "    </tr>\n",
       "    <tr>\n",
       "      <th>mean</th>\n",
       "      <td>2013.091983</td>\n",
       "      <td>64891.927595</td>\n",
       "      <td>3.930796e+05</td>\n",
       "    </tr>\n",
       "    <tr>\n",
       "      <th>std</th>\n",
       "      <td>3.916075</td>\n",
       "      <td>36040.927858</td>\n",
       "      <td>2.460002e+05</td>\n",
       "    </tr>\n",
       "    <tr>\n",
       "      <th>min</th>\n",
       "      <td>2002.000000</td>\n",
       "      <td>1.000000</td>\n",
       "      <td>2.000000e+04</td>\n",
       "    </tr>\n",
       "    <tr>\n",
       "      <th>25%</th>\n",
       "      <td>2011.000000</td>\n",
       "      <td>37504.000000</td>\n",
       "      <td>2.000000e+05</td>\n",
       "    </tr>\n",
       "    <tr>\n",
       "      <th>50%</th>\n",
       "      <td>2014.000000</td>\n",
       "      <td>60000.000000</td>\n",
       "      <td>3.400000e+05</td>\n",
       "    </tr>\n",
       "    <tr>\n",
       "      <th>75%</th>\n",
       "      <td>2016.000000</td>\n",
       "      <td>90000.000000</td>\n",
       "      <td>5.500000e+05</td>\n",
       "    </tr>\n",
       "    <tr>\n",
       "      <th>max</th>\n",
       "      <td>2020.000000</td>\n",
       "      <td>166000.000000</td>\n",
       "      <td>1.165000e+06</td>\n",
       "    </tr>\n",
       "  </tbody>\n",
       "</table>\n",
       "</div>"
      ],
      "text/plain": [
       "              year      km_driven  selling_price\n",
       "count  3218.000000    3218.000000   3.218000e+03\n",
       "mean   2013.091983   64891.927595   3.930796e+05\n",
       "std       3.916075   36040.927858   2.460002e+05\n",
       "min    2002.000000       1.000000   2.000000e+04\n",
       "25%    2011.000000   37504.000000   2.000000e+05\n",
       "50%    2014.000000   60000.000000   3.400000e+05\n",
       "75%    2016.000000   90000.000000   5.500000e+05\n",
       "max    2020.000000  166000.000000   1.165000e+06"
      ]
     },
     "execution_count": 66,
     "metadata": {},
     "output_type": "execute_result"
    }
   ],
   "source": [
    "df.describe()"
   ]
  },
  {
   "cell_type": "markdown",
   "id": "9b92c7c7",
   "metadata": {},
   "source": [
    "## DATA VISULAISATION"
   ]
  },
  {
   "cell_type": "code",
   "execution_count": 67,
   "id": "df1a0252",
   "metadata": {},
   "outputs": [
    {
     "data": {
      "image/png": "[encoded data removed]",
      "text/plain": [
       "<Figure size 640x480 with 1 Axes>"
      ]
     },
     "metadata": {},
     "output_type": "display_data"
    }
   ],
   "source": [
    "x=df.year.values\n",
    "y=df.selling_price.values\n",
    "plt.scatter(x,y)\n",
    "plt.xlabel('YEAR')\n",
    "plt.ylabel('SELLING_PRICE')\n",
    "plt.plot()\n",
    "plt.show()\n"
   ]
  },
  {
   "cell_type": "code",
   "execution_count": 68,
   "id": "3feb7bd6",
   "metadata": {},
   "outputs": [
    {
     "data": {
      "text/plain": [
       "<BarContainer object of 3218 artists>"
      ]
     },
     "execution_count": 68,
     "metadata": {},
     "output_type": "execute_result"
    },
    {
     "data": {
      "image/png": "[encoded data removed]",
      "text/plain": [
       "<Figure size 640x480 with 1 Axes>"
      ]
     },
     "metadata": {},
     "output_type": "display_data"
    }
   ],
   "source": [
    "plt.bar(df['fuel'],df['km_driven'],color='hotpink')"
   ]
  },
  {
   "cell_type": "code",
   "execution_count": 69,
   "id": "1e29a198",
   "metadata": {},
   "outputs": [
    {
     "data": {
      "image/png": "[encoded data removed]",
      "text/plain": [
       "<Figure size 1900x900 with 2 Axes>"
      ]
     },
     "metadata": {},
     "output_type": "display_data"
    },
    {
     "data": {
      "image/png": "[encoded data removed]",
      "text/plain": [
       "<Figure size 1900x900 with 2 Axes>"
      ]
     },
     "metadata": {},
     "output_type": "display_data"
    }
   ],
   "source": [
    "import seaborn as sns\n",
    "cols=['fuel','seller_type','transmission','owner']\n",
    "i=0\n",
    "while i<4:\n",
    "    fig=plt.figure(figsize=(19,9))\n",
    "    plt.subplot(1,2,1)\n",
    "    sns.countplot(x=cols[i],data=df)\n",
    "    i+=1\n",
    "    plt.subplot(1,2,2)\n",
    "    sns.countplot(x=cols[i],data=df)\n",
    "    i+=1\n",
    "    plt.show()"
   ]
  },
  {
   "cell_type": "code",
   "execution_count": 70,
   "id": "fdf3f921",
   "metadata": {},
   "outputs": [
    {
     "name": "stderr",
     "output_type": "stream",
     "text": [
      "C:\\Users\\Asus\\AppData\\Local\\Temp\\ipykernel_35696\\1899433889.py:1: FutureWarning: The default value of numeric_only in DataFrame.corr is deprecated. In a future version, it will default to False. Select only valid columns or specify the value of numeric_only to silence this warning.\n",
      "  sns.heatmap(df.corr(),annot=True,cmap='RdBu')\n"
     ]
    },
    {
     "data": {
      "text/plain": [
       "<Axes: >"
      ]
     },
     "execution_count": 70,
     "metadata": {},
     "output_type": "execute_result"
    },
    {
     "data": {
      "image/png": "[encoded data removed]",
      "text/plain": [
       "<Figure size 640x480 with 2 Axes>"
      ]
     },
     "metadata": {},
     "output_type": "display_data"
    }
   ],
   "source": [
    "sns.heatmap(df.corr(),annot=True,cmap='RdBu')"
   ]
  },
  {
   "cell_type": "code",
   "execution_count": 71,
   "id": "51530ae5",
   "metadata": {},
   "outputs": [
    {
     "data": {
      "image/png": "[encoded data removed]",
      "text/plain": [
       "<Figure size 612.125x500 with 6 Axes>"
      ]
     },
     "metadata": {},
     "output_type": "display_data"
    }
   ],
   "source": [
    "sns.pairplot(data=df,hue='selling_price')\n",
    "plt.show()\n",
    "# Insights\n",
    "# selling price is at its highest in year greater than 2015 when km driven is minimum"
   ]
  },
  {
   "cell_type": "markdown",
   "id": "4b211752",
   "metadata": {},
   "source": [
    "## ENCODING"
   ]
  },
  {
   "cell_type": "code",
   "execution_count": 72,
   "id": "ff884376",
   "metadata": {},
   "outputs": [],
   "source": [
    "from sklearn.preprocessing import LabelEncoder\n",
    "le=LabelEncoder()"
   ]
  },
  {
   "cell_type": "code",
   "execution_count": 73,
   "id": "4993b47b",
   "metadata": {},
   "outputs": [
    {
     "data": {
      "text/html": [
       "<div>\n",
       "<style scoped>\n",
       "    .dataframe tbody tr th:only-of-type {\n",
       "        vertical-align: middle;\n",
       "    }\n",
       "\n",
       "    .dataframe tbody tr th {\n",
       "        vertical-align: top;\n",
       "    }\n",
       "\n",
       "    .dataframe thead th {\n",
       "        text-align: right;\n",
       "    }\n",
       "</style>\n",
       "<table border=\"1\" class=\"dataframe\">\n",
       "  <thead>\n",
       "    <tr style=\"text-align: right;\">\n",
       "      <th></th>\n",
       "      <th>name</th>\n",
       "      <th>year</th>\n",
       "      <th>km_driven</th>\n",
       "      <th>fuel</th>\n",
       "      <th>seller_type</th>\n",
       "      <th>transmission</th>\n",
       "      <th>owner</th>\n",
       "      <th>selling_price</th>\n",
       "    </tr>\n",
       "  </thead>\n",
       "  <tbody>\n",
       "    <tr>\n",
       "      <th>0</th>\n",
       "      <td>Maruti 800 AC</td>\n",
       "      <td>2007</td>\n",
       "      <td>70000</td>\n",
       "      <td>Petrol</td>\n",
       "      <td>Individual</td>\n",
       "      <td>Manual</td>\n",
       "      <td>First Owner</td>\n",
       "      <td>60000</td>\n",
       "    </tr>\n",
       "    <tr>\n",
       "      <th>1</th>\n",
       "      <td>Maruti Wagon R LXI Minor</td>\n",
       "      <td>2007</td>\n",
       "      <td>50000</td>\n",
       "      <td>Petrol</td>\n",
       "      <td>Individual</td>\n",
       "      <td>Manual</td>\n",
       "      <td>First Owner</td>\n",
       "      <td>135000</td>\n",
       "    </tr>\n",
       "    <tr>\n",
       "      <th>2</th>\n",
       "      <td>Hyundai Verna 1.6 SX</td>\n",
       "      <td>2012</td>\n",
       "      <td>100000</td>\n",
       "      <td>Diesel</td>\n",
       "      <td>Individual</td>\n",
       "      <td>Manual</td>\n",
       "      <td>First Owner</td>\n",
       "      <td>600000</td>\n",
       "    </tr>\n",
       "    <tr>\n",
       "      <th>3</th>\n",
       "      <td>Datsun RediGO T Option</td>\n",
       "      <td>2017</td>\n",
       "      <td>46000</td>\n",
       "      <td>Petrol</td>\n",
       "      <td>Individual</td>\n",
       "      <td>Manual</td>\n",
       "      <td>First Owner</td>\n",
       "      <td>250000</td>\n",
       "    </tr>\n",
       "    <tr>\n",
       "      <th>4</th>\n",
       "      <td>Honda Amaze VX i-DTEC</td>\n",
       "      <td>2014</td>\n",
       "      <td>141000</td>\n",
       "      <td>Diesel</td>\n",
       "      <td>Individual</td>\n",
       "      <td>Manual</td>\n",
       "      <td>Second Owner</td>\n",
       "      <td>450000</td>\n",
       "    </tr>\n",
       "    <tr>\n",
       "      <th>...</th>\n",
       "      <td>...</td>\n",
       "      <td>...</td>\n",
       "      <td>...</td>\n",
       "      <td>...</td>\n",
       "      <td>...</td>\n",
       "      <td>...</td>\n",
       "      <td>...</td>\n",
       "      <td>...</td>\n",
       "    </tr>\n",
       "    <tr>\n",
       "      <th>4335</th>\n",
       "      <td>Hyundai i20 Magna 1.4 CRDi (Diesel)</td>\n",
       "      <td>2014</td>\n",
       "      <td>80000</td>\n",
       "      <td>Diesel</td>\n",
       "      <td>Individual</td>\n",
       "      <td>Manual</td>\n",
       "      <td>Second Owner</td>\n",
       "      <td>409999</td>\n",
       "    </tr>\n",
       "    <tr>\n",
       "      <th>4336</th>\n",
       "      <td>Hyundai i20 Magna 1.4 CRDi</td>\n",
       "      <td>2014</td>\n",
       "      <td>80000</td>\n",
       "      <td>Diesel</td>\n",
       "      <td>Individual</td>\n",
       "      <td>Manual</td>\n",
       "      <td>Second Owner</td>\n",
       "      <td>409999</td>\n",
       "    </tr>\n",
       "    <tr>\n",
       "      <th>4337</th>\n",
       "      <td>Maruti 800 AC BSIII</td>\n",
       "      <td>2009</td>\n",
       "      <td>83000</td>\n",
       "      <td>Petrol</td>\n",
       "      <td>Individual</td>\n",
       "      <td>Manual</td>\n",
       "      <td>Second Owner</td>\n",
       "      <td>110000</td>\n",
       "    </tr>\n",
       "    <tr>\n",
       "      <th>4338</th>\n",
       "      <td>Hyundai Creta 1.6 CRDi SX Option</td>\n",
       "      <td>2016</td>\n",
       "      <td>90000</td>\n",
       "      <td>Diesel</td>\n",
       "      <td>Individual</td>\n",
       "      <td>Manual</td>\n",
       "      <td>First Owner</td>\n",
       "      <td>865000</td>\n",
       "    </tr>\n",
       "    <tr>\n",
       "      <th>4339</th>\n",
       "      <td>Renault KWID RXT</td>\n",
       "      <td>2016</td>\n",
       "      <td>40000</td>\n",
       "      <td>Petrol</td>\n",
       "      <td>Individual</td>\n",
       "      <td>Manual</td>\n",
       "      <td>First Owner</td>\n",
       "      <td>225000</td>\n",
       "    </tr>\n",
       "  </tbody>\n",
       "</table>\n",
       "<p>3218 rows × 8 columns</p>\n",
       "</div>"
      ],
      "text/plain": [
       "                                     name  year  km_driven    fuel  \\\n",
       "0                           Maruti 800 AC  2007      70000  Petrol   \n",
       "1                Maruti Wagon R LXI Minor  2007      50000  Petrol   \n",
       "2                    Hyundai Verna 1.6 SX  2012     100000  Diesel   \n",
       "3                  Datsun RediGO T Option  2017      46000  Petrol   \n",
       "4                   Honda Amaze VX i-DTEC  2014     141000  Diesel   \n",
       "...                                   ...   ...        ...     ...   \n",
       "4335  Hyundai i20 Magna 1.4 CRDi (Diesel)  2014      80000  Diesel   \n",
       "4336           Hyundai i20 Magna 1.4 CRDi  2014      80000  Diesel   \n",
       "4337                  Maruti 800 AC BSIII  2009      83000  Petrol   \n",
       "4338     Hyundai Creta 1.6 CRDi SX Option  2016      90000  Diesel   \n",
       "4339                     Renault KWID RXT  2016      40000  Petrol   \n",
       "\n",
       "     seller_type transmission         owner  selling_price  \n",
       "0     Individual       Manual   First Owner          60000  \n",
       "1     Individual       Manual   First Owner         135000  \n",
       "2     Individual       Manual   First Owner         600000  \n",
       "3     Individual       Manual   First Owner         250000  \n",
       "4     Individual       Manual  Second Owner         450000  \n",
       "...          ...          ...           ...            ...  \n",
       "4335  Individual       Manual  Second Owner         409999  \n",
       "4336  Individual       Manual  Second Owner         409999  \n",
       "4337  Individual       Manual  Second Owner         110000  \n",
       "4338  Individual       Manual   First Owner         865000  \n",
       "4339  Individual       Manual   First Owner         225000  \n",
       "\n",
       "[3218 rows x 8 columns]"
      ]
     },
     "execution_count": 73,
     "metadata": {},
     "output_type": "execute_result"
    }
   ],
   "source": [
    "df"
   ]
  },
  {
   "cell_type": "code",
   "execution_count": 74,
   "id": "da7a26b7",
   "metadata": {},
   "outputs": [
    {
     "data": {
      "text/plain": [
       "Index(['name', 'year', 'km_driven', 'fuel', 'seller_type', 'transmission',\n",
       "       'owner', 'selling_price'],\n",
       "      dtype='object')"
      ]
     },
     "execution_count": 74,
     "metadata": {},
     "output_type": "execute_result"
    }
   ],
   "source": [
    "df.columns"
   ]
  },
  {
   "cell_type": "code",
   "execution_count": 75,
   "id": "068d6f23",
   "metadata": {},
   "outputs": [
    {
     "name": "stdout",
     "output_type": "stream",
     "text": [
      "['name', 'fuel', 'seller_type', 'transmission', 'owner']\n"
     ]
    }
   ],
   "source": [
    "a=[cols for cols in df.columns if df[cols].dtype=='object']\n",
    "print(a)\n",
    "for i in a:\n",
    "    df[i]= le.fit_transform(df[i])"
   ]
  },
  {
   "cell_type": "code",
   "execution_count": 76,
   "id": "d53e68c8",
   "metadata": {},
   "outputs": [
    {
     "data": {
      "text/html": [
       "<div>\n",
       "<style scoped>\n",
       "    .dataframe tbody tr th:only-of-type {\n",
       "        vertical-align: middle;\n",
       "    }\n",
       "\n",
       "    .dataframe tbody tr th {\n",
       "        vertical-align: top;\n",
       "    }\n",
       "\n",
       "    .dataframe thead th {\n",
       "        text-align: right;\n",
       "    }\n",
       "</style>\n",
       "<table border=\"1\" class=\"dataframe\">\n",
       "  <thead>\n",
       "    <tr style=\"text-align: right;\">\n",
       "      <th></th>\n",
       "      <th>name</th>\n",
       "      <th>year</th>\n",
       "      <th>km_driven</th>\n",
       "      <th>fuel</th>\n",
       "      <th>seller_type</th>\n",
       "      <th>transmission</th>\n",
       "      <th>owner</th>\n",
       "      <th>selling_price</th>\n",
       "    </tr>\n",
       "  </thead>\n",
       "  <tbody>\n",
       "    <tr>\n",
       "      <th>0</th>\n",
       "      <td>680</td>\n",
       "      <td>2007</td>\n",
       "      <td>70000</td>\n",
       "      <td>4</td>\n",
       "      <td>1</td>\n",
       "      <td>1</td>\n",
       "      <td>0</td>\n",
       "      <td>60000</td>\n",
       "    </tr>\n",
       "    <tr>\n",
       "      <th>1</th>\n",
       "      <td>937</td>\n",
       "      <td>2007</td>\n",
       "      <td>50000</td>\n",
       "      <td>4</td>\n",
       "      <td>1</td>\n",
       "      <td>1</td>\n",
       "      <td>0</td>\n",
       "      <td>135000</td>\n",
       "    </tr>\n",
       "    <tr>\n",
       "      <th>2</th>\n",
       "      <td>451</td>\n",
       "      <td>2012</td>\n",
       "      <td>100000</td>\n",
       "      <td>1</td>\n",
       "      <td>1</td>\n",
       "      <td>1</td>\n",
       "      <td>0</td>\n",
       "      <td>600000</td>\n",
       "    </tr>\n",
       "    <tr>\n",
       "      <th>3</th>\n",
       "      <td>86</td>\n",
       "      <td>2017</td>\n",
       "      <td>46000</td>\n",
       "      <td>4</td>\n",
       "      <td>1</td>\n",
       "      <td>1</td>\n",
       "      <td>0</td>\n",
       "      <td>250000</td>\n",
       "    </tr>\n",
       "    <tr>\n",
       "      <th>4</th>\n",
       "      <td>236</td>\n",
       "      <td>2014</td>\n",
       "      <td>141000</td>\n",
       "      <td>1</td>\n",
       "      <td>1</td>\n",
       "      <td>1</td>\n",
       "      <td>2</td>\n",
       "      <td>450000</td>\n",
       "    </tr>\n",
       "    <tr>\n",
       "      <th>...</th>\n",
       "      <td>...</td>\n",
       "      <td>...</td>\n",
       "      <td>...</td>\n",
       "      <td>...</td>\n",
       "      <td>...</td>\n",
       "      <td>...</td>\n",
       "      <td>...</td>\n",
       "      <td>...</td>\n",
       "    </tr>\n",
       "    <tr>\n",
       "      <th>4335</th>\n",
       "      <td>547</td>\n",
       "      <td>2014</td>\n",
       "      <td>80000</td>\n",
       "      <td>1</td>\n",
       "      <td>1</td>\n",
       "      <td>1</td>\n",
       "      <td>2</td>\n",
       "      <td>409999</td>\n",
       "    </tr>\n",
       "    <tr>\n",
       "      <th>4336</th>\n",
       "      <td>546</td>\n",
       "      <td>2014</td>\n",
       "      <td>80000</td>\n",
       "      <td>1</td>\n",
       "      <td>1</td>\n",
       "      <td>1</td>\n",
       "      <td>2</td>\n",
       "      <td>409999</td>\n",
       "    </tr>\n",
       "    <tr>\n",
       "      <th>4337</th>\n",
       "      <td>682</td>\n",
       "      <td>2009</td>\n",
       "      <td>83000</td>\n",
       "      <td>4</td>\n",
       "      <td>1</td>\n",
       "      <td>1</td>\n",
       "      <td>2</td>\n",
       "      <td>110000</td>\n",
       "    </tr>\n",
       "    <tr>\n",
       "      <th>4338</th>\n",
       "      <td>334</td>\n",
       "      <td>2016</td>\n",
       "      <td>90000</td>\n",
       "      <td>1</td>\n",
       "      <td>1</td>\n",
       "      <td>1</td>\n",
       "      <td>0</td>\n",
       "      <td>865000</td>\n",
       "    </tr>\n",
       "    <tr>\n",
       "      <th>4339</th>\n",
       "      <td>1032</td>\n",
       "      <td>2016</td>\n",
       "      <td>40000</td>\n",
       "      <td>4</td>\n",
       "      <td>1</td>\n",
       "      <td>1</td>\n",
       "      <td>0</td>\n",
       "      <td>225000</td>\n",
       "    </tr>\n",
       "  </tbody>\n",
       "</table>\n",
       "<p>3218 rows × 8 columns</p>\n",
       "</div>"
      ],
      "text/plain": [
       "      name  year  km_driven  fuel  seller_type  transmission  owner  \\\n",
       "0      680  2007      70000     4            1             1      0   \n",
       "1      937  2007      50000     4            1             1      0   \n",
       "2      451  2012     100000     1            1             1      0   \n",
       "3       86  2017      46000     4            1             1      0   \n",
       "4      236  2014     141000     1            1             1      2   \n",
       "...    ...   ...        ...   ...          ...           ...    ...   \n",
       "4335   547  2014      80000     1            1             1      2   \n",
       "4336   546  2014      80000     1            1             1      2   \n",
       "4337   682  2009      83000     4            1             1      2   \n",
       "4338   334  2016      90000     1            1             1      0   \n",
       "4339  1032  2016      40000     4            1             1      0   \n",
       "\n",
       "      selling_price  \n",
       "0             60000  \n",
       "1            135000  \n",
       "2            600000  \n",
       "3            250000  \n",
       "4            450000  \n",
       "...             ...  \n",
       "4335         409999  \n",
       "4336         409999  \n",
       "4337         110000  \n",
       "4338         865000  \n",
       "4339         225000  \n",
       "\n",
       "[3218 rows x 8 columns]"
      ]
     },
     "execution_count": 76,
     "metadata": {},
     "output_type": "execute_result"
    }
   ],
   "source": [
    "df"
   ]
  },
  {
   "cell_type": "markdown",
   "id": "a2ba611e",
   "metadata": {},
   "source": [
    "# LINEAR REGRESSION"
   ]
  },
  {
   "cell_type": "code",
   "execution_count": 77,
   "id": "c68b6c36",
   "metadata": {},
   "outputs": [],
   "source": [
    "X=df.iloc[:,:-1].values\n",
    "Y=df.iloc[:,-1].values\n"
   ]
  },
  {
   "cell_type": "code",
   "execution_count": 78,
   "id": "39b72237",
   "metadata": {},
   "outputs": [
    {
     "data": {
      "text/plain": [
       "(3218, 7)"
      ]
     },
     "execution_count": 78,
     "metadata": {},
     "output_type": "execute_result"
    }
   ],
   "source": [
    "X.shape"
   ]
  },
  {
   "cell_type": "code",
   "execution_count": 79,
   "id": "08c449c7",
   "metadata": {},
   "outputs": [
    {
     "data": {
      "text/plain": [
       "(3218,)"
      ]
     },
     "execution_count": 79,
     "metadata": {},
     "output_type": "execute_result"
    }
   ],
   "source": [
    "Y.shape"
   ]
  },
  {
   "cell_type": "code",
   "execution_count": 80,
   "id": "fe2fa30e",
   "metadata": {},
   "outputs": [],
   "source": [
    "from sklearn.model_selection import train_test_split\n",
    "X_train, X_test, Y_train,Y_test= train_test_split(X,Y,test_size=.25,random_state=67)"
   ]
  },
  {
   "cell_type": "code",
   "execution_count": 81,
   "id": "8307a30e",
   "metadata": {},
   "outputs": [
    {
     "data": {
      "text/plain": [
       "(2413, 7)"
      ]
     },
     "execution_count": 81,
     "metadata": {},
     "output_type": "execute_result"
    }
   ],
   "source": [
    "X_train.shape"
   ]
  },
  {
   "cell_type": "code",
   "execution_count": 82,
   "id": "fd4a4c44",
   "metadata": {},
   "outputs": [
    {
     "data": {
      "text/plain": [
       "(805, 7)"
      ]
     },
     "execution_count": 82,
     "metadata": {},
     "output_type": "execute_result"
    }
   ],
   "source": [
    "X_test.shape"
   ]
  },
  {
   "cell_type": "markdown",
   "id": "a3f733e1",
   "metadata": {},
   "source": [
    "# FEATURE SCALING"
   ]
  },
  {
   "cell_type": "code",
   "execution_count": 83,
   "id": "ddda8124",
   "metadata": {},
   "outputs": [],
   "source": [
    "from sklearn.preprocessing import StandardScaler\n",
    "sc=StandardScaler()"
   ]
  },
  {
   "cell_type": "code",
   "execution_count": 84,
   "id": "878847b0",
   "metadata": {},
   "outputs": [],
   "source": [
    "X_train=sc.fit_transform(X_train)"
   ]
  },
  {
   "cell_type": "code",
   "execution_count": 85,
   "id": "3e6a8822",
   "metadata": {},
   "outputs": [],
   "source": [
    "X_test=sc.transform(X_test)"
   ]
  },
  {
   "cell_type": "code",
   "execution_count": 86,
   "id": "c08da62f",
   "metadata": {},
   "outputs": [
    {
     "data": {
      "text/plain": [
       "array([[-0.46566774,  0.48206637, -0.4139508 , ..., -2.00404673,\n",
       "        -3.94048186, -0.71174913],\n",
       "       [ 0.69904536,  0.22579271, -0.99548355, ..., -2.00404673,\n",
       "        -3.94048186, -0.71174913],\n",
       "       [-0.92475174, -0.03048095, -0.82818725, ...,  0.44444176,\n",
       "         0.25377607, -0.71174913],\n",
       "       ...,\n",
       "       [-0.93325329,  0.22579271,  0.30405904, ...,  0.44444176,\n",
       "         0.25377607,  0.88885726],\n",
       "       [ 1.55770247, -0.79930194,  0.41452209, ...,  0.44444176,\n",
       "        -3.94048186,  2.48946365],\n",
       "       [ 0.54318351,  0.22579271, -0.13779317, ...,  0.44444176,\n",
       "         0.25377607,  0.88885726]])"
      ]
     },
     "execution_count": 86,
     "metadata": {},
     "output_type": "execute_result"
    }
   ],
   "source": [
    "X_train"
   ]
  },
  {
   "cell_type": "code",
   "execution_count": 87,
   "id": "8e496ce2",
   "metadata": {},
   "outputs": [],
   "source": [
    "# LINEAR REGRESSION\n",
    "from sklearn.linear_model import LinearRegression\n",
    "reg=LinearRegression()"
   ]
  },
  {
   "cell_type": "code",
   "execution_count": 88,
   "id": "24db5515",
   "metadata": {},
   "outputs": [
    {
     "data": {
      "text/html": [
       "<style>#sk-container-id-2 {color: black;}#sk-container-id-2 pre{padding: 0;}#sk-container-id-2 div.sk-toggleable {background-color: white;}#sk-container-id-2 label.sk-toggleable__label {cursor: pointer;display: block;width: 100%;margin-bottom: 0;padding: 0.3em;box-sizing: border-box;text-align: center;}#sk-container-id-2 label.sk-toggleable__label-arrow:before {content: \"▸\";float: left;margin-right: 0.25em;color: #696969;}#sk-container-id-2 label.sk-toggleable__label-arrow:hover:before {color: black;}#sk-container-id-2 div.sk-estimator:hover label.sk-toggleable__label-arrow:before {color: black;}#sk-container-id-2 div.sk-toggleable__content {max-height: 0;max-width: 0;overflow: hidden;text-align: left;background-color: #f0f8ff;}#sk-container-id-2 div.sk-toggleable__content pre {margin: 0.2em;color: black;border-radius: 0.25em;background-color: #f0f8ff;}#sk-container-id-2 input.sk-toggleable__control:checked~div.sk-toggleable__content {max-height: 200px;max-width: 100%;overflow: auto;}#sk-container-id-2 input.sk-toggleable__control:checked~label.sk-toggleable__label-arrow:before {content: \"▾\";}#sk-container-id-2 div.sk-estimator input.sk-toggleable__control:checked~label.sk-toggleable__label {background-color: #d4ebff;}#sk-container-id-2 div.sk-label input.sk-toggleable__control:checked~label.sk-toggleable__label {background-color: #d4ebff;}#sk-container-id-2 input.sk-hidden--visually {border: 0;clip: rect(1px 1px 1px 1px);clip: rect(1px, 1px, 1px, 1px);height: 1px;margin: -1px;overflow: hidden;padding: 0;position: absolute;width: 1px;}#sk-container-id-2 div.sk-estimator {font-family: monospace;background-color: #f0f8ff;border: 1px dotted black;border-radius: 0.25em;box-sizing: border-box;margin-bottom: 0.5em;}#sk-container-id-2 div.sk-estimator:hover {background-color: #d4ebff;}#sk-container-id-2 div.sk-parallel-item::after {content: \"\";width: 100%;border-bottom: 1px solid gray;flex-grow: 1;}#sk-container-id-2 div.sk-label:hover label.sk-toggleable__label {background-color: #d4ebff;}#sk-container-id-2 div.sk-serial::before {content: \"\";position: absolute;border-left: 1px solid gray;box-sizing: border-box;top: 0;bottom: 0;left: 50%;z-index: 0;}#sk-container-id-2 div.sk-serial {display: flex;flex-direction: column;align-items: center;background-color: white;padding-right: 0.2em;padding-left: 0.2em;position: relative;}#sk-container-id-2 div.sk-item {position: relative;z-index: 1;}#sk-container-id-2 div.sk-parallel {display: flex;align-items: stretch;justify-content: center;background-color: white;position: relative;}#sk-container-id-2 div.sk-item::before, #sk-container-id-2 div.sk-parallel-item::before {content: \"\";position: absolute;border-left: 1px solid gray;box-sizing: border-box;top: 0;bottom: 0;left: 50%;z-index: -1;}#sk-container-id-2 div.sk-parallel-item {display: flex;flex-direction: column;z-index: 1;position: relative;background-color: white;}#sk-container-id-2 div.sk-parallel-item:first-child::after {align-self: flex-end;width: 50%;}#sk-container-id-2 div.sk-parallel-item:last-child::after {align-self: flex-start;width: 50%;}#sk-container-id-2 div.sk-parallel-item:only-child::after {width: 0;}#sk-container-id-2 div.sk-dashed-wrapped {border: 1px dashed gray;margin: 0 0.4em 0.5em 0.4em;box-sizing: border-box;padding-bottom: 0.4em;background-color: white;}#sk-container-id-2 div.sk-label label {font-family: monospace;font-weight: bold;display: inline-block;line-height: 1.2em;}#sk-container-id-2 div.sk-label-container {text-align: center;}#sk-container-id-2 div.sk-container {/* jupyter's `normalize.less` sets `[hidden] { display: none; }` but bootstrap.min.css set `[hidden] { display: none !important; }` so we also need the `!important` here to be able to override the default hidden behavior on the sphinx rendered scikit-learn.org. See: https://github.com/scikit-learn/scikit-learn/issues/21755 */display: inline-block !important;position: relative;}#sk-container-id-2 div.sk-text-repr-fallback {display: none;}</style><div id=\"sk-container-id-2\" class=\"sk-top-container\"><div class=\"sk-text-repr-fallback\"><pre>LinearRegression()</pre><b>In a Jupyter environment, please rerun this cell to show the HTML representation or trust the notebook. <br />On GitHub, the HTML representation is unable to render, please try loading this page with nbviewer.org.</b></div><div class=\"sk-container\" hidden><div class=\"sk-item\"><div class=\"sk-estimator sk-toggleable\"><input class=\"sk-toggleable__control sk-hidden--visually\" id=\"sk-estimator-id-2\" type=\"checkbox\" checked><label for=\"sk-estimator-id-2\" class=\"sk-toggleable__label sk-toggleable__label-arrow\">LinearRegression</label><div class=\"sk-toggleable__content\"><pre>LinearRegression()</pre></div></div></div></div></div>"
      ],
      "text/plain": [
       "LinearRegression()"
      ]
     },
     "execution_count": 88,
     "metadata": {},
     "output_type": "execute_result"
    }
   ],
   "source": [
    "reg.fit(X_train,Y_train)"
   ]
  },
  {
   "cell_type": "code",
   "execution_count": 89,
   "id": "e82c37ff",
   "metadata": {},
   "outputs": [
    {
     "data": {
      "text/plain": [
       "array([ -4620.18620392, 132241.86913748, -16671.84860079, -77576.64555222,\n",
       "        -9548.95656996, -41955.88467417, -11681.43167725])"
      ]
     },
     "execution_count": 89,
     "metadata": {},
     "output_type": "execute_result"
    }
   ],
   "source": [
    "reg.coef_"
   ]
  },
  {
   "cell_type": "code",
   "execution_count": 90,
   "id": "a667d650",
   "metadata": {},
   "outputs": [
    {
     "data": {
      "text/plain": [
       "393380.1139660173"
      ]
     },
     "execution_count": 90,
     "metadata": {},
     "output_type": "execute_result"
    }
   ],
   "source": [
    "reg.intercept_"
   ]
  },
  {
   "cell_type": "code",
   "execution_count": 91,
   "id": "d24ba87a",
   "metadata": {},
   "outputs": [],
   "source": [
    "Y_pred=reg.predict(X_test)"
   ]
  },
  {
   "cell_type": "code",
   "execution_count": 92,
   "id": "02c120d6",
   "metadata": {},
   "outputs": [
    {
     "data": {
      "text/plain": [
       "array([ 3.85974718e+05,  4.34776333e+05,  3.77323322e+05,  1.26214853e+05,\n",
       "        8.98886868e+04,  5.51064606e+05,  3.48094184e+05,  5.95207939e+05,\n",
       "        4.75836713e+05,  4.54545552e+05,  3.66769802e+05,  6.02906982e+04,\n",
       "        5.06057497e+05,  3.93895205e+05,  2.75582121e+05,  3.37937427e+05,\n",
       "        4.29830708e+05,  1.24157798e+05,  3.77323322e+05,  2.80152312e+05,\n",
       "        5.12218075e+05,  5.40975253e+05,  3.27080703e+05,  3.67347179e+05,\n",
       "        1.04624015e+05,  1.83310637e+05,  4.12951053e+05,  6.02485590e+05,\n",
       "        1.12619292e+05,  5.33240065e+05,  3.74778093e+05,  2.23909804e+05,\n",
       "        5.09709088e+05,  5.64397544e+05,  3.43483788e+05,  7.89325348e+05,\n",
       "        2.12361329e+05,  3.91371770e+05,  3.16817777e+05,  3.89003676e+05,\n",
       "        3.50088210e+05,  5.35810070e+05,  6.07361963e+05,  4.00874120e+05,\n",
       "        5.40448582e+05,  4.08600338e+05,  5.18607871e+05,  3.46222355e+05,\n",
       "        2.82814439e+05,  6.18370786e+05,  4.29982934e+05,  5.15338784e+05,\n",
       "        9.28836342e+04,  2.66058996e+05,  4.76738714e+05,  4.35456443e+05,\n",
       "        5.56395751e+05,  5.31700400e+05,  7.61401992e+05,  5.29275063e+05,\n",
       "        4.97456134e+05,  4.85902031e+05,  4.03455422e+05,  4.26076191e+05,\n",
       "        4.25182089e+05,  5.10909964e+05,  5.05578453e+05,  4.47293297e+05,\n",
       "        4.45733932e+05,  5.37355035e+05,  3.91035688e+05,  3.57916368e+05,\n",
       "        5.22214938e+05,  2.35523917e+05,  6.34413774e+05,  6.45306227e+05,\n",
       "        3.42551938e+05,  1.56562603e+05,  7.10291450e+05,  5.92004823e+05,\n",
       "        9.67502255e+04,  5.12608446e+05,  5.28274164e+05,  4.18671487e+05,\n",
       "        2.24980322e+05,  5.31226224e+05,  2.30832776e+05,  1.33592044e+05,\n",
       "        3.49490024e+05,  1.30462835e+05,  5.70726992e+05,  7.58901937e+04,\n",
       "        2.16052359e+05,  6.87599666e+05,  3.46332681e+05,  2.76127675e+05,\n",
       "        5.50548152e+05,  3.19841485e+05,  3.33339441e+05,  1.98144059e+05,\n",
       "        2.21966861e+05,  2.28353940e+05,  3.83181962e+05,  8.15285336e+05,\n",
       "        4.11863393e+05,  4.44690917e+05,  1.88247349e+05,  6.14198623e+05,\n",
       "        4.72660778e+05,  5.22326906e+05,  2.22826051e+05,  4.79278474e+05,\n",
       "        3.08198927e+05,  1.79593398e+05,  4.97713342e+05,  4.29047421e+05,\n",
       "        4.58051580e+05,  3.85146829e+05,  2.10630737e+05,  5.09610686e+05,\n",
       "        5.40110115e+05,  3.72162620e+05,  4.81412880e+05,  5.85913924e+05,\n",
       "        4.17596328e+05,  2.11124089e+05,  3.07529696e+05,  4.17945574e+05,\n",
       "        3.93451362e+05,  1.66419614e+05,  5.23148297e+05, -4.99125342e+04,\n",
       "        3.28840957e+05,  3.61429372e+05,  5.46826440e+05,  3.32150226e+05,\n",
       "        4.00053849e+05,  5.30915091e+05,  3.05100813e+05,  4.28490913e+05,\n",
       "        4.82524085e+05,  3.28467064e+05,  5.72519622e+05,  5.28828665e+05,\n",
       "        6.83302862e+05,  4.06471447e+05,  2.48179058e+05,  4.78360363e+05,\n",
       "        4.35259620e+05,  1.38311376e+05,  6.75070024e+05,  5.15666921e+05,\n",
       "        4.01303789e+05,  4.12926450e+05,  4.44612674e+05,  3.65502973e+05,\n",
       "        3.76667266e+05,  4.16218718e+05,  5.02175703e+05,  4.77119948e+05,\n",
       "        4.14288212e+05,  2.76986987e+05,  4.90674000e+05,  7.94667152e+04,\n",
       "        9.15824132e+03,  4.93099408e+05,  4.40917222e+05,  1.84409372e+05,\n",
       "        1.75240745e+05,  4.45479358e+05,  3.05383268e+05,  2.50731542e+05,\n",
       "        4.95982751e+05,  4.71983994e+05,  4.01165956e+05,  5.58289574e+05,\n",
       "        5.52644794e+05,  2.37811680e+05,  2.69797067e+05,  5.92886700e+05,\n",
       "        4.93143568e+05,  3.27099856e+05,  6.36648013e+05,  5.76874640e+05,\n",
       "        4.25328809e+05, -6.49443616e+04,  4.45523922e+05,  4.37167504e+05,\n",
       "        2.17845458e+05,  4.14467507e+05,  6.67742409e+05,  4.45816049e+05,\n",
       "        1.72374525e+05,  2.99450163e+05,  5.12742341e+05,  4.29879029e+05,\n",
       "        3.85838114e+05,  3.69985954e+05,  5.07083309e+05,  4.03593155e+05,\n",
       "        3.66807898e+05,  2.56667894e+05,  9.16482487e+04,  8.01368761e+05,\n",
       "        4.16138821e+05,  7.30408921e+05,  3.06708037e+05,  5.36590129e+05,\n",
       "        1.23594591e+05,  2.25132186e+05,  4.52055193e+05,  4.31702737e+05,\n",
       "       -3.21185717e+04,  7.53379655e+04,  6.15306870e+05,  5.07140061e+05,\n",
       "        4.14392061e+05,  4.90409816e+05,  3.76943076e+05,  4.87725513e+04,\n",
       "        4.99939960e+05,  3.14317372e+05,  6.23938974e+05,  4.52815950e+05,\n",
       "        4.61727471e+05,  3.11999925e+05,  4.49927700e+05,  4.94704109e+05,\n",
       "        6.90287507e+05,  4.81252124e+05,  5.40913970e+05,  3.66682314e+04,\n",
       "        4.18685990e+05,  4.03768757e+05,  5.72266391e+05,  2.45307572e+05,\n",
       "        2.87488741e+05,  5.74558302e+05,  5.20182143e+05,  3.06031597e+05,\n",
       "        5.77400669e+05,  4.03012058e+05,  2.98396849e+05,  8.56255040e+04,\n",
       "        1.75898461e+05,  3.16351167e+05,  1.42430889e+05,  2.62074698e+05,\n",
       "        4.63611422e+05,  2.74826733e+05,  6.34972119e+05,  4.27568872e+05,\n",
       "        3.52973045e+05, -4.47532703e+03,  2.15200168e+05,  2.18500736e+05,\n",
       "        5.63216305e+05,  2.73659255e+05,  4.84529003e+05,  5.16226525e+05,\n",
       "        4.91455307e+05,  3.62822715e+05,  4.72259517e+05,  1.27453497e+05,\n",
       "        5.82988085e+05,  3.14929004e+05,  3.41855029e+05,  4.79120447e+05,\n",
       "        3.52000929e+05,  4.00702373e+05,  4.54296321e+05,  4.82349510e+05,\n",
       "        4.97637538e+05,  4.63049732e+05,  4.58657187e+05,  1.48800510e+05,\n",
       "        6.10124570e+05,  5.40394918e+05,  6.61469011e+05,  5.20808765e+05,\n",
       "       -2.31576817e+04,  5.21369829e+05,  5.24037957e+05,  2.88623175e+05,\n",
       "        1.02581519e+05,  4.56129246e+05,  6.74671180e+05,  1.91420638e+05,\n",
       "        1.95565094e+05,  2.16698048e+05,  2.24392551e+05,  6.09024764e+05,\n",
       "        3.77485088e+05,  6.90102921e+04,  4.70664457e+05,  4.22673529e+05,\n",
       "        3.17705799e+05,  2.84403921e+05,  4.58996596e+05,  1.56469636e+05,\n",
       "        5.54082095e+05,  5.05796330e+05,  4.42125482e+05,  4.28990435e+05,\n",
       "        5.75918856e+05,  5.53483354e+05,  4.64281993e+05,  3.18648996e+05,\n",
       "        3.53156953e+05,  3.18131805e+05,  4.33899212e+05, -1.46773356e+04,\n",
       "        2.49154934e+05,  4.52703464e+05,  9.37865742e+04,  6.10411602e+05,\n",
       "        3.69342984e+05,  4.16218718e+05,  8.24794110e+04,  2.59960927e+05,\n",
       "        3.50421098e+05,  5.48172171e+05,  3.84052826e+05,  3.09377290e+05,\n",
       "        1.00504395e+05,  4.98961305e+05,  2.50997364e+05,  4.49271794e+05,\n",
       "        3.31079156e+05,  4.20576336e+05,  2.10024671e+05,  3.42457748e+05,\n",
       "        2.94659276e+05,  4.15414508e+05,  5.69217326e+04,  3.84515729e+05,\n",
       "        4.97493088e+05,  1.69731809e+05,  2.44720915e+05,  4.51265860e+05,\n",
       "        5.46646174e+05,  6.02993578e+05,  6.14754642e+05,  4.36918114e+05,\n",
       "        3.12881801e+05,  2.69020263e+05,  5.08097668e+05,  5.30370046e+05,\n",
       "        6.86968881e+05,  4.96674350e+05,  4.58907085e+05,  4.34115897e+05,\n",
       "        3.18500991e+05,  3.60834989e+05,  5.02175703e+05,  3.10145552e+05,\n",
       "        1.59554580e+05,  8.90908655e+04,  1.56799427e+05,  5.18732483e+05,\n",
       "        4.15404867e+05,  2.76787581e+05,  6.34216577e+05,  1.84294987e+05,\n",
       "       -1.24391676e+05,  5.30663085e+05,  4.95509080e+05,  5.84611607e+05,\n",
       "        5.32332003e+05,  3.09243145e+05,  4.63409276e+05, -9.65283398e+03,\n",
       "        7.12282327e+05,  4.70677550e+05,  5.29449235e+05,  2.92200132e+05,\n",
       "        5.08749367e+05,  3.83709169e+05,  3.18686358e+05,  7.19683211e+05,\n",
       "        5.71911815e+05,  7.49949096e+04,  5.31944192e+05,  2.25075764e+05,\n",
       "        3.52863910e+05,  2.24706523e+05,  5.21296363e+05,  4.73800407e+05,\n",
       "        1.73957961e+05,  4.79512768e+05,  7.00299453e+05,  4.13431140e+04,\n",
       "       -2.09596826e+04,  4.14766215e+05,  6.81827129e+05,  3.81808134e+05,\n",
       "        5.64867167e+04,  6.02437111e+05,  5.58324202e+05,  6.21171055e+05,\n",
       "        1.50945739e+05,  4.17165716e+05,  1.07847514e+05,  2.56951537e+05,\n",
       "        3.44013953e+05,  1.18207254e+05,  4.64342079e+05,  2.74471287e+05,\n",
       "        4.16349647e+05,  4.29933302e+05,  4.79274715e+05,  2.66842010e+05,\n",
       "        2.57117389e+05,  5.39299897e+05,  3.59717626e+05,  4.01045453e+05,\n",
       "        1.49549447e+05,  6.43281474e+05,  3.82043116e+04,  3.12941676e+05,\n",
       "        5.32254361e+05,  4.56545894e+05,  5.89362649e+05,  4.76146893e+05,\n",
       "        3.79328241e+05,  4.91731650e+05,  3.01320985e+05,  5.46921045e+05,\n",
       "        9.15074596e+04,  4.87591989e+05,  1.68500450e+05,  4.32036250e+05,\n",
       "        5.22769311e+05,  5.30440247e+05,  3.64675007e+05,  1.83902458e+05,\n",
       "        6.36680920e+05,  9.84107268e+04,  7.15740260e+05,  3.20677941e+05,\n",
       "        1.41342195e+05,  4.62131547e+05,  6.17639642e+05,  6.67116356e+05,\n",
       "        4.45064259e+05, -1.11592108e+02,  5.31295937e+05,  3.44184561e+05,\n",
       "        4.59085921e+05,  8.44053003e+04,  1.48154478e+05,  3.46510684e+05,\n",
       "        5.20355013e+05,  4.95188733e+05,  2.33911786e+05,  5.23045375e+05,\n",
       "        4.22048309e+05,  7.20039208e+04,  5.73524572e+05,  4.49022714e+05,\n",
       "        1.83519264e+05,  6.96633992e+04,  4.00169355e+05,  1.75258489e+05,\n",
       "       -2.22107280e+04,  2.37166908e+05,  6.11438513e+05,  5.97429085e+05,\n",
       "        5.74898984e+05,  3.18378332e+05,  4.18447756e+05,  6.95217078e+05,\n",
       "        3.58179123e+05,  3.84083062e+05,  1.24650678e+05,  3.51492006e+05,\n",
       "        4.80179901e+05,  4.85057701e+05,  5.54196060e+05,  3.60748659e+05,\n",
       "        3.83493880e+05,  4.68134046e+05,  6.19206314e+05,  3.72881029e+05,\n",
       "        4.68551846e+05,  7.28615675e+05,  4.64795426e+05,  6.09299946e+05,\n",
       "        4.04637391e+05,  1.41494294e+05,  7.61975207e+04,  5.34353879e+05,\n",
       "        6.37186893e+05,  6.70732794e+05,  3.68083430e+05,  3.06142965e+05,\n",
       "        4.27412909e+05,  3.02851683e+05,  6.60914017e+05,  5.17063637e+05,\n",
       "        5.70884107e+05,  1.61948187e+05,  2.89225708e+05,  2.41244975e+05,\n",
       "        4.56023092e+05,  4.82849632e+05,  3.24363486e+05,  1.50102900e+05,\n",
       "        4.38821788e+05,  4.67992349e+05,  3.03619515e+05,  6.32444149e+05,\n",
       "        3.73820221e+05,  4.87452792e+05,  3.45584375e+05,  5.59334683e+05,\n",
       "        5.75147749e+05,  6.28947027e+05,  8.46426389e+05,  3.66523908e+05,\n",
       "        5.85140340e+05,  1.74231234e+05,  4.47726244e+05,  6.57177786e+04,\n",
       "        1.22534580e+04,  2.89658668e+05,  1.22659453e+05,  2.77580898e+05,\n",
       "        5.75950913e+05,  3.76910700e+05,  5.38783498e+05,  4.08978216e+05,\n",
       "        3.73449167e+05,  4.11340950e+05,  3.46582857e+05,  6.70525028e+05,\n",
       "        7.20797369e+05,  3.47132450e+05,  3.82454489e+05,  3.41209999e+05,\n",
       "        5.53592326e+05,  4.67249457e+05,  5.92544965e+05,  5.38280886e+05,\n",
       "        3.27218633e+05,  4.27948549e+05,  3.17519549e+05,  2.41506833e+05,\n",
       "        5.17706397e+05, -7.20591495e+04,  4.57695799e+05,  3.85837114e+05,\n",
       "        4.69166537e+05,  4.58121504e+05,  1.88456495e+05, -1.27472427e+04,\n",
       "        8.03410013e+04,  3.38912364e+05,  3.40389564e+05,  7.60400613e+05,\n",
       "        3.79684699e+05,  4.70228393e+05,  3.62011213e+05,  4.62125804e+05,\n",
       "       -9.03883097e+04,  2.68113434e+05,  4.97795691e+05,  3.04741114e+05,\n",
       "        4.46175748e+05,  3.18461690e+05,  4.52065329e+05, -1.22921478e+05,\n",
       "        1.31688430e+05,  1.81401710e+05,  3.10829453e+05,  4.00287191e+05,\n",
       "        3.55859549e+05,  3.28394955e+05,  6.94947303e+04,  6.49412754e+05,\n",
       "        6.31084438e+05,  2.03495061e+05,  2.73993518e+04,  5.73423033e+05,\n",
       "        3.81074930e+05,  6.51051695e+05,  5.10314851e+05,  2.58561459e+04,\n",
       "        5.57245828e+04,  4.65763053e+05,  2.88216257e+05,  7.54806643e+04,\n",
       "        5.64595450e+05,  3.52707947e+05,  6.09921716e+05,  4.25500758e+05,\n",
       "        4.96164889e+05,  2.46301483e+05,  3.52803096e+05,  4.00269757e+05,\n",
       "        5.59970954e+05,  2.83671769e+05,  4.00274610e+05,  2.01566643e+05,\n",
       "        4.66708314e+05,  3.52680609e+05,  5.41843302e+05,  4.09568078e+05,\n",
       "        3.63444458e+05,  4.25117255e+05,  5.38066703e+05,  1.25420908e+05,\n",
       "        4.18263137e+04,  5.58324202e+05,  3.39304810e+03,  3.86824133e+05,\n",
       "        5.12848498e+05, -3.66514928e+04,  5.68772282e+05,  4.66120504e+05,\n",
       "        1.96276478e+05,  3.90295052e+05,  1.70603160e+05,  6.35730362e+05,\n",
       "        1.19922667e+05,  1.44709844e+05,  3.05873037e+05,  5.27393095e+05,\n",
       "        3.44696135e+05,  2.82607023e+05,  4.15696009e+05,  1.96885195e+05,\n",
       "        4.23981442e+05,  3.88130842e+05,  6.45298694e+05,  3.74322430e+05,\n",
       "        4.99779698e+05,  2.28633799e+05,  4.66976044e+05,  4.90740380e+05,\n",
       "        1.64094511e+05,  3.61806633e+05,  2.33645277e+05,  5.35749540e+05,\n",
       "        1.53799996e+05,  5.83372425e+05,  3.76606618e+05,  2.60561143e+05,\n",
       "        2.03712944e+05,  4.56653936e+05,  3.67434974e+05,  6.72605715e+05,\n",
       "        2.07469252e+05,  3.58119974e+05,  5.14716902e+05,  3.83693731e+05,\n",
       "        5.85795138e+05,  4.94167969e+04,  6.34079431e+05,  3.61417006e+05,\n",
       "        4.37892437e+05,  6.69339401e+05,  4.63648375e+05,  4.09601203e+05,\n",
       "        6.42303984e+05,  4.75684808e+05,  2.20383619e+05,  5.31727403e+05,\n",
       "        1.12389658e+05,  4.10387166e+05,  2.88677272e+05,  3.06494297e+05,\n",
       "        3.37518453e+05,  4.98226690e+04,  4.72156450e+05,  4.43978993e+05,\n",
       "        2.58813279e+05,  1.32326995e+05,  2.79218665e+05,  6.80706672e+05,\n",
       "        5.28827126e+05,  3.94460840e+05,  6.31242282e+04,  3.56570462e+05,\n",
       "        6.89163669e+05,  6.46447636e+05,  1.27595485e+05,  5.31330021e+05,\n",
       "        6.53521606e+05, -1.75074141e+04,  4.46194235e+05,  2.50881337e+05,\n",
       "        4.21706475e+05,  2.79627177e+05,  3.79315148e+05,  2.53918065e+05,\n",
       "        4.33669315e+05,  3.99519103e+05,  4.04821035e+05,  4.61255296e+05,\n",
       "        1.29042997e+05,  5.48622402e+05,  4.79331071e+04,  2.05235469e+05,\n",
       "        4.59316943e+05,  4.29223782e+05,  5.52819648e+05,  2.25504590e+05,\n",
       "        4.59732297e+05,  4.52884776e+05,  4.15175384e+05,  3.19717459e+05,\n",
       "        2.67817840e+05,  5.28685110e+05,  8.26058946e+05,  6.90763340e+05,\n",
       "        6.93812000e+05,  1.47411566e+05,  5.67277987e+05,  6.03576563e+05,\n",
       "        4.20954267e+05,  4.83565801e+05,  4.42811726e+05,  5.98180033e+05,\n",
       "        4.93311794e+05,  6.90849626e+05,  5.13828829e+05,  1.69234593e+05,\n",
       "        2.23747577e+05,  6.13533126e+05,  4.83401155e+05,  5.64486318e+05,\n",
       "        4.32072268e+05,  3.45492043e+05,  5.33930255e+05,  8.79109633e+04,\n",
       "        6.82674402e+05,  1.58852376e+05, -4.53215689e+04,  5.36562375e+05,\n",
       "        5.33650211e+05,  7.97953456e+03,  5.21764548e+05,  3.63580038e+05,\n",
       "        4.23763034e+04,  4.84282929e+05,  3.69400823e+05,  3.42886164e+05,\n",
       "        4.39355194e+05,  3.72799631e+05,  3.86252696e+05,  1.82558538e+05,\n",
       "        4.18282462e+05,  4.97215187e+05,  3.42416544e+05,  6.41843459e+05,\n",
       "        3.94907101e+05,  5.24366114e+04,  3.31280891e+05,  5.24360187e+05,\n",
       "        5.99825090e+05,  5.08905207e+05,  4.87616342e+05,  8.83607734e+04,\n",
       "        6.18538669e+05,  6.56608675e+05,  4.75799692e+05,  6.53335980e+05,\n",
       "        2.54965912e+05,  3.13108773e+05,  5.10005013e+05,  6.33044502e+05,\n",
       "        5.46643829e+05,  5.72712405e+05,  6.47110725e+05,  5.75086935e+05,\n",
       "        1.59784614e+05,  2.95271268e+05,  6.70832887e+05,  4.12850045e+05,\n",
       "        5.26160929e+05,  5.56382658e+05,  6.53500071e+05,  3.36707793e+05,\n",
       "        5.32763884e+05,  5.65531625e+05,  2.66676689e+05,  4.45596873e+05,\n",
       "        1.88922850e+05,  5.19545418e+05,  5.88623893e+05,  2.46882222e+05,\n",
       "        5.70273390e+05,  5.83372796e+05,  4.91192880e+05,  2.65330443e+05,\n",
       "        6.37292115e+05,  5.17108118e+05,  5.28541516e+05,  2.92748868e+05,\n",
       "        6.44760975e+05,  3.96202199e+05,  4.79066750e+05,  3.32149529e+05,\n",
       "        3.46680219e+05])"
      ]
     },
     "execution_count": 92,
     "metadata": {},
     "output_type": "execute_result"
    }
   ],
   "source": [
    "Y_pred"
   ]
  },
  {
   "cell_type": "code",
   "execution_count": 93,
   "id": "81e3e0d0",
   "metadata": {},
   "outputs": [
    {
     "data": {
      "text/plain": [
       "array([ 3.85974718e+05,  4.34776333e+05,  3.77323322e+05,  1.26214853e+05,\n",
       "        8.98886868e+04,  5.51064606e+05,  3.48094184e+05,  5.95207939e+05,\n",
       "        4.75836713e+05,  4.54545552e+05,  3.66769802e+05,  6.02906982e+04,\n",
       "        5.06057497e+05,  3.93895205e+05,  2.75582121e+05,  3.37937427e+05,\n",
       "        4.29830708e+05,  1.24157798e+05,  3.77323322e+05,  2.80152312e+05,\n",
       "        5.12218075e+05,  5.40975253e+05,  3.27080703e+05,  3.67347179e+05,\n",
       "        1.04624015e+05,  1.83310637e+05,  4.12951053e+05,  6.02485590e+05,\n",
       "        1.12619292e+05,  5.33240065e+05,  3.74778093e+05,  2.23909804e+05,\n",
       "        5.09709088e+05,  5.64397544e+05,  3.43483788e+05,  7.89325348e+05,\n",
       "        2.12361329e+05,  3.91371770e+05,  3.16817777e+05,  3.89003676e+05,\n",
       "        3.50088210e+05,  5.35810070e+05,  6.07361963e+05,  4.00874120e+05,\n",
       "        5.40448582e+05,  4.08600338e+05,  5.18607871e+05,  3.46222355e+05,\n",
       "        2.82814439e+05,  6.18370786e+05,  4.29982934e+05,  5.15338784e+05,\n",
       "        9.28836342e+04,  2.66058996e+05,  4.76738714e+05,  4.35456443e+05,\n",
       "        5.56395751e+05,  5.31700400e+05,  7.61401992e+05,  5.29275063e+05,\n",
       "        4.97456134e+05,  4.85902031e+05,  4.03455422e+05,  4.26076191e+05,\n",
       "        4.25182089e+05,  5.10909964e+05,  5.05578453e+05,  4.47293297e+05,\n",
       "        4.45733932e+05,  5.37355035e+05,  3.91035688e+05,  3.57916368e+05,\n",
       "        5.22214938e+05,  2.35523917e+05,  6.34413774e+05,  6.45306227e+05,\n",
       "        3.42551938e+05,  1.56562603e+05,  7.10291450e+05,  5.92004823e+05,\n",
       "        9.67502255e+04,  5.12608446e+05,  5.28274164e+05,  4.18671487e+05,\n",
       "        2.24980322e+05,  5.31226224e+05,  2.30832776e+05,  1.33592044e+05,\n",
       "        3.49490024e+05,  1.30462835e+05,  5.70726992e+05,  7.58901937e+04,\n",
       "        2.16052359e+05,  6.87599666e+05,  3.46332681e+05,  2.76127675e+05,\n",
       "        5.50548152e+05,  3.19841485e+05,  3.33339441e+05,  1.98144059e+05,\n",
       "        2.21966861e+05,  2.28353940e+05,  3.83181962e+05,  8.15285336e+05,\n",
       "        4.11863393e+05,  4.44690917e+05,  1.88247349e+05,  6.14198623e+05,\n",
       "        4.72660778e+05,  5.22326906e+05,  2.22826051e+05,  4.79278474e+05,\n",
       "        3.08198927e+05,  1.79593398e+05,  4.97713342e+05,  4.29047421e+05,\n",
       "        4.58051580e+05,  3.85146829e+05,  2.10630737e+05,  5.09610686e+05,\n",
       "        5.40110115e+05,  3.72162620e+05,  4.81412880e+05,  5.85913924e+05,\n",
       "        4.17596328e+05,  2.11124089e+05,  3.07529696e+05,  4.17945574e+05,\n",
       "        3.93451362e+05,  1.66419614e+05,  5.23148297e+05, -4.99125342e+04,\n",
       "        3.28840957e+05,  3.61429372e+05,  5.46826440e+05,  3.32150226e+05,\n",
       "        4.00053849e+05,  5.30915091e+05,  3.05100813e+05,  4.28490913e+05,\n",
       "        4.82524085e+05,  3.28467064e+05,  5.72519622e+05,  5.28828665e+05,\n",
       "        6.83302862e+05,  4.06471447e+05,  2.48179058e+05,  4.78360363e+05,\n",
       "        4.35259620e+05,  1.38311376e+05,  6.75070024e+05,  5.15666921e+05,\n",
       "        4.01303789e+05,  4.12926450e+05,  4.44612674e+05,  3.65502973e+05,\n",
       "        3.76667266e+05,  4.16218718e+05,  5.02175703e+05,  4.77119948e+05,\n",
       "        4.14288212e+05,  2.76986987e+05,  4.90674000e+05,  7.94667152e+04,\n",
       "        9.15824132e+03,  4.93099408e+05,  4.40917222e+05,  1.84409372e+05,\n",
       "        1.75240745e+05,  4.45479358e+05,  3.05383268e+05,  2.50731542e+05,\n",
       "        4.95982751e+05,  4.71983994e+05,  4.01165956e+05,  5.58289574e+05,\n",
       "        5.52644794e+05,  2.37811680e+05,  2.69797067e+05,  5.92886700e+05,\n",
       "        4.93143568e+05,  3.27099856e+05,  6.36648013e+05,  5.76874640e+05,\n",
       "        4.25328809e+05, -6.49443616e+04,  4.45523922e+05,  4.37167504e+05,\n",
       "        2.17845458e+05,  4.14467507e+05,  6.67742409e+05,  4.45816049e+05,\n",
       "        1.72374525e+05,  2.99450163e+05,  5.12742341e+05,  4.29879029e+05,\n",
       "        3.85838114e+05,  3.69985954e+05,  5.07083309e+05,  4.03593155e+05,\n",
       "        3.66807898e+05,  2.56667894e+05,  9.16482487e+04,  8.01368761e+05,\n",
       "        4.16138821e+05,  7.30408921e+05,  3.06708037e+05,  5.36590129e+05,\n",
       "        1.23594591e+05,  2.25132186e+05,  4.52055193e+05,  4.31702737e+05,\n",
       "       -3.21185717e+04,  7.53379655e+04,  6.15306870e+05,  5.07140061e+05,\n",
       "        4.14392061e+05,  4.90409816e+05,  3.76943076e+05,  4.87725513e+04,\n",
       "        4.99939960e+05,  3.14317372e+05,  6.23938974e+05,  4.52815950e+05,\n",
       "        4.61727471e+05,  3.11999925e+05,  4.49927700e+05,  4.94704109e+05,\n",
       "        6.90287507e+05,  4.81252124e+05,  5.40913970e+05,  3.66682314e+04,\n",
       "        4.18685990e+05,  4.03768757e+05,  5.72266391e+05,  2.45307572e+05,\n",
       "        2.87488741e+05,  5.74558302e+05,  5.20182143e+05,  3.06031597e+05,\n",
       "        5.77400669e+05,  4.03012058e+05,  2.98396849e+05,  8.56255040e+04,\n",
       "        1.75898461e+05,  3.16351167e+05,  1.42430889e+05,  2.62074698e+05,\n",
       "        4.63611422e+05,  2.74826733e+05,  6.34972119e+05,  4.27568872e+05,\n",
       "        3.52973045e+05, -4.47532703e+03,  2.15200168e+05,  2.18500736e+05,\n",
       "        5.63216305e+05,  2.73659255e+05,  4.84529003e+05,  5.16226525e+05,\n",
       "        4.91455307e+05,  3.62822715e+05,  4.72259517e+05,  1.27453497e+05,\n",
       "        5.82988085e+05,  3.14929004e+05,  3.41855029e+05,  4.79120447e+05,\n",
       "        3.52000929e+05,  4.00702373e+05,  4.54296321e+05,  4.82349510e+05,\n",
       "        4.97637538e+05,  4.63049732e+05,  4.58657187e+05,  1.48800510e+05,\n",
       "        6.10124570e+05,  5.40394918e+05,  6.61469011e+05,  5.20808765e+05,\n",
       "       -2.31576817e+04,  5.21369829e+05,  5.24037957e+05,  2.88623175e+05,\n",
       "        1.02581519e+05,  4.56129246e+05,  6.74671180e+05,  1.91420638e+05,\n",
       "        1.95565094e+05,  2.16698048e+05,  2.24392551e+05,  6.09024764e+05,\n",
       "        3.77485088e+05,  6.90102921e+04,  4.70664457e+05,  4.22673529e+05,\n",
       "        3.17705799e+05,  2.84403921e+05,  4.58996596e+05,  1.56469636e+05,\n",
       "        5.54082095e+05,  5.05796330e+05,  4.42125482e+05,  4.28990435e+05,\n",
       "        5.75918856e+05,  5.53483354e+05,  4.64281993e+05,  3.18648996e+05,\n",
       "        3.53156953e+05,  3.18131805e+05,  4.33899212e+05, -1.46773356e+04,\n",
       "        2.49154934e+05,  4.52703464e+05,  9.37865742e+04,  6.10411602e+05,\n",
       "        3.69342984e+05,  4.16218718e+05,  8.24794110e+04,  2.59960927e+05,\n",
       "        3.50421098e+05,  5.48172171e+05,  3.84052826e+05,  3.09377290e+05,\n",
       "        1.00504395e+05,  4.98961305e+05,  2.50997364e+05,  4.49271794e+05,\n",
       "        3.31079156e+05,  4.20576336e+05,  2.10024671e+05,  3.42457748e+05,\n",
       "        2.94659276e+05,  4.15414508e+05,  5.69217326e+04,  3.84515729e+05,\n",
       "        4.97493088e+05,  1.69731809e+05,  2.44720915e+05,  4.51265860e+05,\n",
       "        5.46646174e+05,  6.02993578e+05,  6.14754642e+05,  4.36918114e+05,\n",
       "        3.12881801e+05,  2.69020263e+05,  5.08097668e+05,  5.30370046e+05,\n",
       "        6.86968881e+05,  4.96674350e+05,  4.58907085e+05,  4.34115897e+05,\n",
       "        3.18500991e+05,  3.60834989e+05,  5.02175703e+05,  3.10145552e+05,\n",
       "        1.59554580e+05,  8.90908655e+04,  1.56799427e+05,  5.18732483e+05,\n",
       "        4.15404867e+05,  2.76787581e+05,  6.34216577e+05,  1.84294987e+05,\n",
       "       -1.24391676e+05,  5.30663085e+05,  4.95509080e+05,  5.84611607e+05,\n",
       "        5.32332003e+05,  3.09243145e+05,  4.63409276e+05, -9.65283398e+03,\n",
       "        7.12282327e+05,  4.70677550e+05,  5.29449235e+05,  2.92200132e+05,\n",
       "        5.08749367e+05,  3.83709169e+05,  3.18686358e+05,  7.19683211e+05,\n",
       "        5.71911815e+05,  7.49949096e+04,  5.31944192e+05,  2.25075764e+05,\n",
       "        3.52863910e+05,  2.24706523e+05,  5.21296363e+05,  4.73800407e+05,\n",
       "        1.73957961e+05,  4.79512768e+05,  7.00299453e+05,  4.13431140e+04,\n",
       "       -2.09596826e+04,  4.14766215e+05,  6.81827129e+05,  3.81808134e+05,\n",
       "        5.64867167e+04,  6.02437111e+05,  5.58324202e+05,  6.21171055e+05,\n",
       "        1.50945739e+05,  4.17165716e+05,  1.07847514e+05,  2.56951537e+05,\n",
       "        3.44013953e+05,  1.18207254e+05,  4.64342079e+05,  2.74471287e+05,\n",
       "        4.16349647e+05,  4.29933302e+05,  4.79274715e+05,  2.66842010e+05,\n",
       "        2.57117389e+05,  5.39299897e+05,  3.59717626e+05,  4.01045453e+05,\n",
       "        1.49549447e+05,  6.43281474e+05,  3.82043116e+04,  3.12941676e+05,\n",
       "        5.32254361e+05,  4.56545894e+05,  5.89362649e+05,  4.76146893e+05,\n",
       "        3.79328241e+05,  4.91731650e+05,  3.01320985e+05,  5.46921045e+05,\n",
       "        9.15074596e+04,  4.87591989e+05,  1.68500450e+05,  4.32036250e+05,\n",
       "        5.22769311e+05,  5.30440247e+05,  3.64675007e+05,  1.83902458e+05,\n",
       "        6.36680920e+05,  9.84107268e+04,  7.15740260e+05,  3.20677941e+05,\n",
       "        1.41342195e+05,  4.62131547e+05,  6.17639642e+05,  6.67116356e+05,\n",
       "        4.45064259e+05, -1.11592108e+02,  5.31295937e+05,  3.44184561e+05,\n",
       "        4.59085921e+05,  8.44053003e+04,  1.48154478e+05,  3.46510684e+05,\n",
       "        5.20355013e+05,  4.95188733e+05,  2.33911786e+05,  5.23045375e+05,\n",
       "        4.22048309e+05,  7.20039208e+04,  5.73524572e+05,  4.49022714e+05,\n",
       "        1.83519264e+05,  6.96633992e+04,  4.00169355e+05,  1.75258489e+05,\n",
       "       -2.22107280e+04,  2.37166908e+05,  6.11438513e+05,  5.97429085e+05,\n",
       "        5.74898984e+05,  3.18378332e+05,  4.18447756e+05,  6.95217078e+05,\n",
       "        3.58179123e+05,  3.84083062e+05,  1.24650678e+05,  3.51492006e+05,\n",
       "        4.80179901e+05,  4.85057701e+05,  5.54196060e+05,  3.60748659e+05,\n",
       "        3.83493880e+05,  4.68134046e+05,  6.19206314e+05,  3.72881029e+05,\n",
       "        4.68551846e+05,  7.28615675e+05,  4.64795426e+05,  6.09299946e+05,\n",
       "        4.04637391e+05,  1.41494294e+05,  7.61975207e+04,  5.34353879e+05,\n",
       "        6.37186893e+05,  6.70732794e+05,  3.68083430e+05,  3.06142965e+05,\n",
       "        4.27412909e+05,  3.02851683e+05,  6.60914017e+05,  5.17063637e+05,\n",
       "        5.70884107e+05,  1.61948187e+05,  2.89225708e+05,  2.41244975e+05,\n",
       "        4.56023092e+05,  4.82849632e+05,  3.24363486e+05,  1.50102900e+05,\n",
       "        4.38821788e+05,  4.67992349e+05,  3.03619515e+05,  6.32444149e+05,\n",
       "        3.73820221e+05,  4.87452792e+05,  3.45584375e+05,  5.59334683e+05,\n",
       "        5.75147749e+05,  6.28947027e+05,  8.46426389e+05,  3.66523908e+05,\n",
       "        5.85140340e+05,  1.74231234e+05,  4.47726244e+05,  6.57177786e+04,\n",
       "        1.22534580e+04,  2.89658668e+05,  1.22659453e+05,  2.77580898e+05,\n",
       "        5.75950913e+05,  3.76910700e+05,  5.38783498e+05,  4.08978216e+05,\n",
       "        3.73449167e+05,  4.11340950e+05,  3.46582857e+05,  6.70525028e+05,\n",
       "        7.20797369e+05,  3.47132450e+05,  3.82454489e+05,  3.41209999e+05,\n",
       "        5.53592326e+05,  4.67249457e+05,  5.92544965e+05,  5.38280886e+05,\n",
       "        3.27218633e+05,  4.27948549e+05,  3.17519549e+05,  2.41506833e+05,\n",
       "        5.17706397e+05, -7.20591495e+04,  4.57695799e+05,  3.85837114e+05,\n",
       "        4.69166537e+05,  4.58121504e+05,  1.88456495e+05, -1.27472427e+04,\n",
       "        8.03410013e+04,  3.38912364e+05,  3.40389564e+05,  7.60400613e+05,\n",
       "        3.79684699e+05,  4.70228393e+05,  3.62011213e+05,  4.62125804e+05,\n",
       "       -9.03883097e+04,  2.68113434e+05,  4.97795691e+05,  3.04741114e+05,\n",
       "        4.46175748e+05,  3.18461690e+05,  4.52065329e+05, -1.22921478e+05,\n",
       "        1.31688430e+05,  1.81401710e+05,  3.10829453e+05,  4.00287191e+05,\n",
       "        3.55859549e+05,  3.28394955e+05,  6.94947303e+04,  6.49412754e+05,\n",
       "        6.31084438e+05,  2.03495061e+05,  2.73993518e+04,  5.73423033e+05,\n",
       "        3.81074930e+05,  6.51051695e+05,  5.10314851e+05,  2.58561459e+04,\n",
       "        5.57245828e+04,  4.65763053e+05,  2.88216257e+05,  7.54806643e+04,\n",
       "        5.64595450e+05,  3.52707947e+05,  6.09921716e+05,  4.25500758e+05,\n",
       "        4.96164889e+05,  2.46301483e+05,  3.52803096e+05,  4.00269757e+05,\n",
       "        5.59970954e+05,  2.83671769e+05,  4.00274610e+05,  2.01566643e+05,\n",
       "        4.66708314e+05,  3.52680609e+05,  5.41843302e+05,  4.09568078e+05,\n",
       "        3.63444458e+05,  4.25117255e+05,  5.38066703e+05,  1.25420908e+05,\n",
       "        4.18263137e+04,  5.58324202e+05,  3.39304810e+03,  3.86824133e+05,\n",
       "        5.12848498e+05, -3.66514928e+04,  5.68772282e+05,  4.66120504e+05,\n",
       "        1.96276478e+05,  3.90295052e+05,  1.70603160e+05,  6.35730362e+05,\n",
       "        1.19922667e+05,  1.44709844e+05,  3.05873037e+05,  5.27393095e+05,\n",
       "        3.44696135e+05,  2.82607023e+05,  4.15696009e+05,  1.96885195e+05,\n",
       "        4.23981442e+05,  3.88130842e+05,  6.45298694e+05,  3.74322430e+05,\n",
       "        4.99779698e+05,  2.28633799e+05,  4.66976044e+05,  4.90740380e+05,\n",
       "        1.64094511e+05,  3.61806633e+05,  2.33645277e+05,  5.35749540e+05,\n",
       "        1.53799996e+05,  5.83372425e+05,  3.76606618e+05,  2.60561143e+05,\n",
       "        2.03712944e+05,  4.56653936e+05,  3.67434974e+05,  6.72605715e+05,\n",
       "        2.07469252e+05,  3.58119974e+05,  5.14716902e+05,  3.83693731e+05,\n",
       "        5.85795138e+05,  4.94167969e+04,  6.34079431e+05,  3.61417006e+05,\n",
       "        4.37892437e+05,  6.69339401e+05,  4.63648375e+05,  4.09601203e+05,\n",
       "        6.42303984e+05,  4.75684808e+05,  2.20383619e+05,  5.31727403e+05,\n",
       "        1.12389658e+05,  4.10387166e+05,  2.88677272e+05,  3.06494297e+05,\n",
       "        3.37518453e+05,  4.98226690e+04,  4.72156450e+05,  4.43978993e+05,\n",
       "        2.58813279e+05,  1.32326995e+05,  2.79218665e+05,  6.80706672e+05,\n",
       "        5.28827126e+05,  3.94460840e+05,  6.31242282e+04,  3.56570462e+05,\n",
       "        6.89163669e+05,  6.46447636e+05,  1.27595485e+05,  5.31330021e+05,\n",
       "        6.53521606e+05, -1.75074141e+04,  4.46194235e+05,  2.50881337e+05,\n",
       "        4.21706475e+05,  2.79627177e+05,  3.79315148e+05,  2.53918065e+05,\n",
       "        4.33669315e+05,  3.99519103e+05,  4.04821035e+05,  4.61255296e+05,\n",
       "        1.29042997e+05,  5.48622402e+05,  4.79331071e+04,  2.05235469e+05,\n",
       "        4.59316943e+05,  4.29223782e+05,  5.52819648e+05,  2.25504590e+05,\n",
       "        4.59732297e+05,  4.52884776e+05,  4.15175384e+05,  3.19717459e+05,\n",
       "        2.67817840e+05,  5.28685110e+05,  8.26058946e+05,  6.90763340e+05,\n",
       "        6.93812000e+05,  1.47411566e+05,  5.67277987e+05,  6.03576563e+05,\n",
       "        4.20954267e+05,  4.83565801e+05,  4.42811726e+05,  5.98180033e+05,\n",
       "        4.93311794e+05,  6.90849626e+05,  5.13828829e+05,  1.69234593e+05,\n",
       "        2.23747577e+05,  6.13533126e+05,  4.83401155e+05,  5.64486318e+05,\n",
       "        4.32072268e+05,  3.45492043e+05,  5.33930255e+05,  8.79109633e+04,\n",
       "        6.82674402e+05,  1.58852376e+05, -4.53215689e+04,  5.36562375e+05,\n",
       "        5.33650211e+05,  7.97953456e+03,  5.21764548e+05,  3.63580038e+05,\n",
       "        4.23763034e+04,  4.84282929e+05,  3.69400823e+05,  3.42886164e+05,\n",
       "        4.39355194e+05,  3.72799631e+05,  3.86252696e+05,  1.82558538e+05,\n",
       "        4.18282462e+05,  4.97215187e+05,  3.42416544e+05,  6.41843459e+05,\n",
       "        3.94907101e+05,  5.24366114e+04,  3.31280891e+05,  5.24360187e+05,\n",
       "        5.99825090e+05,  5.08905207e+05,  4.87616342e+05,  8.83607734e+04,\n",
       "        6.18538669e+05,  6.56608675e+05,  4.75799692e+05,  6.53335980e+05,\n",
       "        2.54965912e+05,  3.13108773e+05,  5.10005013e+05,  6.33044502e+05,\n",
       "        5.46643829e+05,  5.72712405e+05,  6.47110725e+05,  5.75086935e+05,\n",
       "        1.59784614e+05,  2.95271268e+05,  6.70832887e+05,  4.12850045e+05,\n",
       "        5.26160929e+05,  5.56382658e+05,  6.53500071e+05,  3.36707793e+05,\n",
       "        5.32763884e+05,  5.65531625e+05,  2.66676689e+05,  4.45596873e+05,\n",
       "        1.88922850e+05,  5.19545418e+05,  5.88623893e+05,  2.46882222e+05,\n",
       "        5.70273390e+05,  5.83372796e+05,  4.91192880e+05,  2.65330443e+05,\n",
       "        6.37292115e+05,  5.17108118e+05,  5.28541516e+05,  2.92748868e+05,\n",
       "        6.44760975e+05,  3.96202199e+05,  4.79066750e+05,  3.32149529e+05,\n",
       "        3.46680219e+05])"
      ]
     },
     "execution_count": 93,
     "metadata": {},
     "output_type": "execute_result"
    }
   ],
   "source": [
    "Y_pred"
   ]
  },
  {
   "cell_type": "markdown",
   "id": "c0169856",
   "metadata": {},
   "source": [
    "# EVALUATION"
   ]
  },
  {
   "cell_type": "code",
   "execution_count": 94,
   "id": "cdb47305",
   "metadata": {},
   "outputs": [],
   "source": [
    "from sklearn import metrics"
   ]
  },
  {
   "cell_type": "code",
   "execution_count": 95,
   "id": "785e0751",
   "metadata": {},
   "outputs": [
    {
     "data": {
      "text/plain": [
       "29690286152.918846"
      ]
     },
     "execution_count": 95,
     "metadata": {},
     "output_type": "execute_result"
    }
   ],
   "source": [
    "metrics.mean_squared_error(Y_test,Y_pred)"
   ]
  },
  {
   "cell_type": "code",
   "execution_count": 96,
   "id": "a907aeeb",
   "metadata": {},
   "outputs": [
    {
     "data": {
      "text/plain": [
       "172308.69436252728"
      ]
     },
     "execution_count": 96,
     "metadata": {},
     "output_type": "execute_result"
    }
   ],
   "source": [
    "import numpy as np\n",
    "np.sqrt(metrics.mean_squared_error(Y_test,Y_pred))"
   ]
  },
  {
   "cell_type": "code",
   "execution_count": 97,
   "id": "70ad9d0b",
   "metadata": {},
   "outputs": [
    {
     "name": "stdout",
     "output_type": "stream",
     "text": [
      "0.5304468124148256\n"
     ]
    }
   ],
   "source": [
    "r2=metrics.r2_score(Y_test,Y_pred)\n",
    "print(r2)\n",
    "n=df.shape[0] #sample size\n",
    "p=df.shape[1] # columns/independent variables"
   ]
  },
  {
   "cell_type": "code",
   "execution_count": 98,
   "id": "b28ef4a5",
   "metadata": {},
   "outputs": [
    {
     "data": {
      "text/plain": [
       "(3218, 8)"
      ]
     },
     "execution_count": 98,
     "metadata": {},
     "output_type": "execute_result"
    }
   ],
   "source": [
    "df.shape"
   ]
  },
  {
   "cell_type": "code",
   "execution_count": 99,
   "id": "5a536ee8",
   "metadata": {},
   "outputs": [
    {
     "data": {
      "text/plain": [
       "0.5304468124148256"
      ]
     },
     "execution_count": 99,
     "metadata": {},
     "output_type": "execute_result"
    }
   ],
   "source": [
    "r2=metrics.r2_score(Y_test,Y_pred)\n",
    "r2"
   ]
  },
  {
   "cell_type": "code",
   "execution_count": 100,
   "id": "cabbde34",
   "metadata": {},
   "outputs": [
    {
     "data": {
      "text/plain": [
       "0.5292762217321576"
      ]
     },
     "execution_count": 100,
     "metadata": {},
     "output_type": "execute_result"
    }
   ],
   "source": [
    "Adj_r2 = 1-((1-r2)*(n-1)/(n-p-1))\n",
    "Adj_r2"
   ]
  },
  {
   "cell_type": "code",
   "execution_count": null,
   "id": "8babc3f6",
   "metadata": {},
   "outputs": [],
   "source": []
  }
 ],
 "metadata": {
  "kernelspec": {
   "display_name": "Python 3 (ipykernel)",
   "language": "python",
   "name": "python3"
  },
  "language_info": {
   "codemirror_mode": {
    "name": "ipython",
    "version": 3
   },
   "file_extension": ".py",
   "mimetype": "text/x-python",
   "name": "python",
   "nbconvert_exporter": "python",
   "pygments_lexer": "ipython3",
   "version": "3.11.4"
  }
 },
 "nbformat": 4,
 "nbformat_minor": 5
}
